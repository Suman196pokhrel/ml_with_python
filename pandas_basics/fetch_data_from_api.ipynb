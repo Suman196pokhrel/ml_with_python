{
 "cells": [
  {
   "cell_type": "code",
   "execution_count": 1,
   "id": "962cdbdd-7c11-438a-96b8-b534dc3aaf0f",
   "metadata": {},
   "outputs": [],
   "source": [
    "import pandas as pd\n",
    "import requests"
   ]
  },
  {
   "cell_type": "code",
   "execution_count": 2,
   "id": "2ce9d13f-838c-4197-a1c4-7b2d2db7e43b",
   "metadata": {},
   "outputs": [],
   "source": [
    "response = requests.get(f\"https://api.themoviedb.org/3/movie/top_rated?api_key=79f66b020660d6788b4471fc4878559a&language=en-US&page=1\")"
   ]
  },
  {
   "cell_type": "code",
   "execution_count": 3,
   "id": "1ca4515e-9ca5-480e-8441-791e67cfd86c",
   "metadata": {},
   "outputs": [],
   "source": [
    "df = pd.DataFrame(response.json()[\"results\"])[[\"id\",'title','overview','popularity','release_date','vote_average','vote_count']]"
   ]
  },
  {
   "cell_type": "code",
   "execution_count": 4,
   "id": "25300f22-085b-4b7d-b1a1-14f4880e4509",
   "metadata": {},
   "outputs": [
    {
     "data": {
      "text/html": [
       "<div>\n",
       "<style scoped>\n",
       "    .dataframe tbody tr th:only-of-type {\n",
       "        vertical-align: middle;\n",
       "    }\n",
       "\n",
       "    .dataframe tbody tr th {\n",
       "        vertical-align: top;\n",
       "    }\n",
       "\n",
       "    .dataframe thead th {\n",
       "        text-align: right;\n",
       "    }\n",
       "</style>\n",
       "<table border=\"1\" class=\"dataframe\">\n",
       "  <thead>\n",
       "    <tr style=\"text-align: right;\">\n",
       "      <th></th>\n",
       "      <th>id</th>\n",
       "      <th>title</th>\n",
       "      <th>overview</th>\n",
       "      <th>popularity</th>\n",
       "      <th>release_date</th>\n",
       "      <th>vote_average</th>\n",
       "      <th>vote_count</th>\n",
       "    </tr>\n",
       "  </thead>\n",
       "  <tbody>\n",
       "    <tr>\n",
       "      <th>0</th>\n",
       "      <td>238</td>\n",
       "      <td>The Godfather</td>\n",
       "      <td>Spanning the years 1945 to 1955, a chronicle o...</td>\n",
       "      <td>163.166</td>\n",
       "      <td>1972-03-14</td>\n",
       "      <td>8.7</td>\n",
       "      <td>16841</td>\n",
       "    </tr>\n",
       "    <tr>\n",
       "      <th>1</th>\n",
       "      <td>278</td>\n",
       "      <td>The Shawshank Redemption</td>\n",
       "      <td>Framed in the 1940s for the double murder of h...</td>\n",
       "      <td>93.513</td>\n",
       "      <td>1994-09-23</td>\n",
       "      <td>8.7</td>\n",
       "      <td>22576</td>\n",
       "    </tr>\n",
       "    <tr>\n",
       "      <th>2</th>\n",
       "      <td>240</td>\n",
       "      <td>The Godfather Part II</td>\n",
       "      <td>In the continuing saga of the Corleone crime f...</td>\n",
       "      <td>60.327</td>\n",
       "      <td>1974-12-20</td>\n",
       "      <td>8.6</td>\n",
       "      <td>10211</td>\n",
       "    </tr>\n",
       "    <tr>\n",
       "      <th>3</th>\n",
       "      <td>19404</td>\n",
       "      <td>Dilwale Dulhania Le Jayenge</td>\n",
       "      <td>Raj is a rich, carefree, happy-go-lucky second...</td>\n",
       "      <td>35.112</td>\n",
       "      <td>1995-10-19</td>\n",
       "      <td>8.6</td>\n",
       "      <td>3931</td>\n",
       "    </tr>\n",
       "    <tr>\n",
       "      <th>4</th>\n",
       "      <td>424</td>\n",
       "      <td>Schindler's List</td>\n",
       "      <td>The true story of how businessman Oskar Schind...</td>\n",
       "      <td>63.970</td>\n",
       "      <td>1993-12-15</td>\n",
       "      <td>8.6</td>\n",
       "      <td>13400</td>\n",
       "    </tr>\n",
       "  </tbody>\n",
       "</table>\n",
       "</div>"
      ],
      "text/plain": [
       "      id                        title  \\\n",
       "0    238                The Godfather   \n",
       "1    278     The Shawshank Redemption   \n",
       "2    240        The Godfather Part II   \n",
       "3  19404  Dilwale Dulhania Le Jayenge   \n",
       "4    424             Schindler's List   \n",
       "\n",
       "                                            overview  popularity release_date  \\\n",
       "0  Spanning the years 1945 to 1955, a chronicle o...     163.166   1972-03-14   \n",
       "1  Framed in the 1940s for the double murder of h...      93.513   1994-09-23   \n",
       "2  In the continuing saga of the Corleone crime f...      60.327   1974-12-20   \n",
       "3  Raj is a rich, carefree, happy-go-lucky second...      35.112   1995-10-19   \n",
       "4  The true story of how businessman Oskar Schind...      63.970   1993-12-15   \n",
       "\n",
       "   vote_average  vote_count  \n",
       "0           8.7       16841  \n",
       "1           8.7       22576  \n",
       "2           8.6       10211  \n",
       "3           8.6        3931  \n",
       "4           8.6       13400  "
      ]
     },
     "execution_count": 4,
     "metadata": {},
     "output_type": "execute_result"
    }
   ],
   "source": [
    "df.head()"
   ]
  },
  {
   "cell_type": "code",
   "execution_count": 5,
   "id": "3cd22c88-ea6e-4005-82b2-fb3ba3eead73",
   "metadata": {},
   "outputs": [
    {
     "data": {
      "text/html": [
       "<div>\n",
       "<style scoped>\n",
       "    .dataframe tbody tr th:only-of-type {\n",
       "        vertical-align: middle;\n",
       "    }\n",
       "\n",
       "    .dataframe tbody tr th {\n",
       "        vertical-align: top;\n",
       "    }\n",
       "\n",
       "    .dataframe thead th {\n",
       "        text-align: right;\n",
       "    }\n",
       "</style>\n",
       "<table border=\"1\" class=\"dataframe\">\n",
       "  <thead>\n",
       "    <tr style=\"text-align: right;\">\n",
       "      <th></th>\n",
       "    </tr>\n",
       "  </thead>\n",
       "  <tbody>\n",
       "  </tbody>\n",
       "</table>\n",
       "</div>"
      ],
      "text/plain": [
       "Empty DataFrame\n",
       "Columns: []\n",
       "Index: []"
      ]
     },
     "execution_count": 5,
     "metadata": {},
     "output_type": "execute_result"
    }
   ],
   "source": [
    "df = pd.DataFrame()\n",
    "df"
   ]
  },
  {
   "cell_type": "code",
   "execution_count": null,
   "id": "800bddc2-8f32-4854-ab96-b64aaef9dea4",
   "metadata": {},
   "outputs": [],
   "source": [
    "for i in range(1,501):\n",
    "    response = requests.get(f\"https://api.themoviedb.org/3/movie/top_rated?api_key=79f66b020660d6788b4471fc4878559a&language=en-US&page={i}\")\n",
    "    temp_df = pd.DataFrame(response.json()[\"results\"])[[\"id\",'title','overview','popularity','release_date','vote_average','vote_count']]\n",
    "    df = pd.concat([df,temp_df],ignore_index=True)\n",
    "df.shape"
   ]
  },
  {
   "cell_type": "code",
   "execution_count": null,
   "id": "593f32bd-4261-47c9-81f7-c1ffbd762b99",
   "metadata": {},
   "outputs": [],
   "source": []
  }
 ],
 "metadata": {
  "kernelspec": {
   "display_name": "Python 3 (ipykernel)",
   "language": "python",
   "name": "python3"
  },
  "language_info": {
   "codemirror_mode": {
    "name": "ipython",
    "version": 3
   },
   "file_extension": ".py",
   "mimetype": "text/x-python",
   "name": "python",
   "nbconvert_exporter": "python",
   "pygments_lexer": "ipython3",
   "version": "3.10.5"
  }
 },
 "nbformat": 4,
 "nbformat_minor": 5
}
