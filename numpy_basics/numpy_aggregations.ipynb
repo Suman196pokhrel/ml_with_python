{
 "cells": [
  {
   "cell_type": "code",
   "execution_count": 10,
   "id": "02c0c2c3-0cce-4354-ab10-3b6424cdf013",
   "metadata": {},
   "outputs": [],
   "source": [
    "import numpy as np"
   ]
  },
  {
   "cell_type": "markdown",
   "id": "4e006ad4-9576-4129-b66d-86aff9c7300f",
   "metadata": {},
   "source": [
    "# SUM of Elements using numpy UFuncs"
   ]
  },
  {
   "cell_type": "code",
   "execution_count": 4,
   "id": "7165e666-1a7d-4956-94e5-934c8619611d",
   "metadata": {},
   "outputs": [],
   "source": [
    "L = np.random.random(100)"
   ]
  },
  {
   "cell_type": "code",
   "execution_count": 5,
   "id": "c9bef22c-5da0-400c-8dd3-c6b3455c7aac",
   "metadata": {},
   "outputs": [
    {
     "name": "stdout",
     "output_type": "stream",
     "text": [
      "9.25 µs ± 78.9 ns per loop (mean ± std. dev. of 7 runs, 100,000 loops each)\n"
     ]
    }
   ],
   "source": [
    "%timeit sum(L)"
   ]
  },
  {
   "cell_type": "code",
   "execution_count": 6,
   "id": "e7a4dacb-38db-4dc8-8c74-41f27ce32ebd",
   "metadata": {},
   "outputs": [
    {
     "name": "stdout",
     "output_type": "stream",
     "text": [
      "3.38 µs ± 11.8 ns per loop (mean ± std. dev. of 7 runs, 100,000 loops each)\n"
     ]
    }
   ],
   "source": [
    "%timeit np.sum(L)"
   ]
  },
  {
   "cell_type": "code",
   "execution_count": 8,
   "id": "159cdbaa-4462-4cd7-be56-d50b24b8ccad",
   "metadata": {},
   "outputs": [],
   "source": [
    "big_array = np.random.random(1000000)"
   ]
  },
  {
   "cell_type": "code",
   "execution_count": 9,
   "id": "f5d41948-ce35-4b89-b8b6-79d406b3a315",
   "metadata": {},
   "outputs": [
    {
     "name": "stdout",
     "output_type": "stream",
     "text": [
      "74.8 ms ± 1.02 ms per loop (mean ± std. dev. of 7 runs, 10 loops each)\n",
      "980 µs ± 19 µs per loop (mean ± std. dev. of 7 runs, 1,000 loops each)\n"
     ]
    }
   ],
   "source": [
    "%timeit sum(big_array)\n",
    "%timeit np.sum(big_array)"
   ]
  },
  {
   "cell_type": "markdown",
   "id": "7122fe48-8387-49c8-81f7-52f915715a56",
   "metadata": {},
   "source": [
    "# Minimum and Maximum"
   ]
  },
  {
   "cell_type": "code",
   "execution_count": 13,
   "id": "a9daab79-a875-40ec-a3f3-d37b58ffc01a",
   "metadata": {},
   "outputs": [
    {
     "name": "stdout",
     "output_type": "stream",
     "text": [
      "50.3 ms ± 794 µs per loop (mean ± std. dev. of 7 runs, 10 loops each)\n",
      "49.1 ms ± 211 µs per loop (mean ± std. dev. of 7 runs, 10 loops each)\n"
     ]
    }
   ],
   "source": [
    "# python default functions\n",
    "%timeit min(big_array)\n",
    "%timeit max(big_array)"
   ]
  },
  {
   "cell_type": "code",
   "execution_count": 14,
   "id": "21ae3366-a8d1-44b1-aa76-39ae1e04c43c",
   "metadata": {},
   "outputs": [
    {
     "name": "stdout",
     "output_type": "stream",
     "text": [
      "404 µs ± 3.15 µs per loop (mean ± std. dev. of 7 runs, 1,000 loops each)\n",
      "406 µs ± 3.7 µs per loop (mean ± std. dev. of 7 runs, 1,000 loops each)\n"
     ]
    }
   ],
   "source": [
    "# Numpy functions\n",
    "%timeit np.min(big_array)\n",
    "%timeit np.max(big_array)"
   ]
  },
  {
   "cell_type": "markdown",
   "id": "ea7ec343-ca15-4f55-b7da-32470f8330a1",
   "metadata": {},
   "source": [
    "# Multidimensional Aggregates"
   ]
  },
  {
   "cell_type": "code",
   "execution_count": 15,
   "id": "1fd13d86-796c-45fa-b399-dced12db5657",
   "metadata": {},
   "outputs": [
    {
     "data": {
      "text/plain": [
       "array([[0.60292266, 0.93224168, 0.04567011, 0.26390403],\n",
       "       [0.30731841, 0.07349298, 0.93955079, 0.7074469 ],\n",
       "       [0.76362554, 0.42623636, 0.09619117, 0.50593079]])"
      ]
     },
     "execution_count": 15,
     "metadata": {},
     "output_type": "execute_result"
    }
   ],
   "source": [
    "M = np.random.random((3,4))\n",
    "M"
   ]
  },
  {
   "cell_type": "code",
   "execution_count": 16,
   "id": "ad6b9945-762d-42c4-bb44-33770a84e116",
   "metadata": {},
   "outputs": [
    {
     "data": {
      "text/plain": [
       "5.664531432917026"
      ]
     },
     "execution_count": 16,
     "metadata": {},
     "output_type": "execute_result"
    }
   ],
   "source": [
    "# aggregation of entire array\n",
    "M.sum()"
   ]
  },
  {
   "cell_type": "code",
   "execution_count": 18,
   "id": "961dc71d-0eaf-47bc-ab96-85d4daaeec95",
   "metadata": {},
   "outputs": [
    {
     "data": {
      "text/plain": [
       "(array([0.30731841, 0.07349298, 0.04567011, 0.26390403]),\n",
       " array([0.76362554, 0.93224168, 0.93955079, 0.7074469 ]))"
      ]
     },
     "execution_count": 18,
     "metadata": {},
     "output_type": "execute_result"
    }
   ],
   "source": [
    "# min and max for each col \n",
    "M.min(axis=0), M.max(axis=0)"
   ]
  },
  {
   "cell_type": "code",
   "execution_count": null,
   "id": "db30da7a-e68f-490a-8033-f8a46c12d1a3",
   "metadata": {},
   "outputs": [],
   "source": []
  }
 ],
 "metadata": {
  "kernelspec": {
   "display_name": "Python 3 (ipykernel)",
   "language": "python",
   "name": "python3"
  },
  "language_info": {
   "codemirror_mode": {
    "name": "ipython",
    "version": 3
   },
   "file_extension": ".py",
   "mimetype": "text/x-python",
   "name": "python",
   "nbconvert_exporter": "python",
   "pygments_lexer": "ipython3",
   "version": "3.10.5"
  }
 },
 "nbformat": 4,
 "nbformat_minor": 5
}
