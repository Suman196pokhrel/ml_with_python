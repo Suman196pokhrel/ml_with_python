{
 "cells": [
  {
   "cell_type": "code",
   "execution_count": 1,
   "id": "05960a5d-4e2e-4ab1-b81c-76b618b943cc",
   "metadata": {},
   "outputs": [],
   "source": [
    "import numpy as np"
   ]
  },
  {
   "cell_type": "markdown",
   "id": "af6ac68f-00b4-4449-9cd8-47ea4b7d661e",
   "metadata": {},
   "source": [
    "1. Attributes of Arrays"
   ]
  },
  {
   "cell_type": "code",
   "execution_count": 4,
   "id": "4831f459-5d00-4d33-8b8a-305bc93d1854",
   "metadata": {},
   "outputs": [],
   "source": [
    "np.random.seed(0)\n",
    "\n",
    "x1 = np.random.randint(10,size=6)\n",
    "x2 = np.random.randint(10,size=(3,4))\n",
    "x3 = np.random.randint(10,size=(3,4,5))"
   ]
  },
  {
   "cell_type": "code",
   "execution_count": 5,
   "id": "be4a88cd-3f91-43fd-9732-782886ffcf75",
   "metadata": {},
   "outputs": [
    {
     "name": "stdout",
     "output_type": "stream",
     "text": [
      "x3 ndim:  3\n",
      "x3 ndim:  (3, 4, 5)\n",
      "x3 ndim:  60\n"
     ]
    }
   ],
   "source": [
    "print(\"x3 ndim: \", x3.ndim)\n",
    "print(\"x3 ndim: \", x3.shape)\n",
    "print(\"x3 ndim: \", x3.size)"
   ]
  },
  {
   "cell_type": "code",
   "execution_count": 6,
   "id": "cbe81e6f-8a31-464b-9913-2582dd21ddf7",
   "metadata": {},
   "outputs": [
    {
     "name": "stdout",
     "output_type": "stream",
     "text": [
      "Data Type of the array :  int32\n"
     ]
    }
   ],
   "source": [
    "print(\"Data Type of the array : \", x3.dtype)"
   ]
  },
  {
   "cell_type": "code",
   "execution_count": 8,
   "id": "030abc9e-15ff-49c6-80eb-90817b73f199",
   "metadata": {},
   "outputs": [
    {
     "name": "stdout",
     "output_type": "stream",
     "text": [
      "Size of arrays elements each in bytes :  4\n",
      "Size of array in bytes :  240\n"
     ]
    }
   ],
   "source": [
    "print(\"Size of arrays elements each in bytes : \", x3.itemsize)\n",
    "print(\"Size of array in bytes : \", x3.nbytes)"
   ]
  },
  {
   "cell_type": "markdown",
   "id": "844a37c0-b415-48f7-aaed-efc6fcb2b632",
   "metadata": {},
   "source": [
    "<h1> Array indexing </h1>"
   ]
  },
  {
   "cell_type": "code",
   "execution_count": 9,
   "id": "d1ed70da-a3a4-4239-9370-9acb0972a785",
   "metadata": {},
   "outputs": [
    {
     "data": {
      "text/plain": [
       "array([5, 0, 3, 3, 7, 9])"
      ]
     },
     "execution_count": 9,
     "metadata": {},
     "output_type": "execute_result"
    }
   ],
   "source": [
    "x1"
   ]
  },
  {
   "cell_type": "code",
   "execution_count": 40,
   "id": "4f49b7ff-6b66-46ce-a1fa-1921017e0f6e",
   "metadata": {},
   "outputs": [
    {
     "data": {
      "text/plain": [
       "(5, 9)"
      ]
     },
     "execution_count": 40,
     "metadata": {},
     "output_type": "execute_result"
    }
   ],
   "source": [
    "x1[0], x1[-1] "
   ]
  },
  {
   "cell_type": "markdown",
   "id": "e0d02f9f-25e6-4786-97a2-ba5f2e630cc6",
   "metadata": {},
   "source": [
    "# Array Slicing  format: x[start:stop:step]"
   ]
  },
  {
   "cell_type": "code",
   "execution_count": 39,
   "id": "9c7de5a3-228a-40d9-88bf-3b9e194597fc",
   "metadata": {},
   "outputs": [
    {
     "data": {
      "text/plain": [
       "(array([5, 0, 3]),\n",
       " array([5, 0, 3, 3, 7, 9]),\n",
       " array([5, 0, 3, 3, 7]),\n",
       " array([5]))"
      ]
     },
     "execution_count": 39,
     "metadata": {},
     "output_type": "execute_result"
    }
   ],
   "source": [
    "x1[0:3],x1[0:], x1[:5], x1[0:1:2]"
   ]
  },
  {
   "cell_type": "code",
   "execution_count": 41,
   "id": "aa32883e-fe16-4c42-a874-d037788b9cb2",
   "metadata": {},
   "outputs": [
    {
     "data": {
      "text/plain": [
       "array([[3, 5, 2, 4],\n",
       "       [7, 6, 8, 8],\n",
       "       [1, 6, 7, 7]])"
      ]
     },
     "execution_count": 41,
     "metadata": {},
     "output_type": "execute_result"
    }
   ],
   "source": [
    "x2"
   ]
  },
  {
   "cell_type": "code",
   "execution_count": 46,
   "id": "81691777-b596-4ea8-adba-5736f450a08d",
   "metadata": {},
   "outputs": [
    {
     "data": {
      "text/plain": [
       "(array([[3, 5]]),\n",
       " array([[3, 5],\n",
       "        [7, 6]]))"
      ]
     },
     "execution_count": 46,
     "metadata": {},
     "output_type": "execute_result"
    }
   ],
   "source": [
    "x2[:1, :2], x2[:2,:2]"
   ]
  },
  {
   "cell_type": "code",
   "execution_count": 49,
   "id": "70a142a1-b4aa-42a0-85c1-58cef8ff8525",
   "metadata": {},
   "outputs": [
    {
     "data": {
      "text/plain": [
       "array([2, 8, 7])"
      ]
     },
     "execution_count": 49,
     "metadata": {},
     "output_type": "execute_result"
    }
   ],
   "source": [
    "x2[:,2] # 3rd column"
   ]
  },
  {
   "cell_type": "markdown",
   "id": "1a5e7848-c27c-4dc6-9bc1-1779435148cc",
   "metadata": {},
   "source": [
    "## Subarrays as no-copy views"
   ]
  },
  {
   "cell_type": "code",
   "execution_count": 50,
   "id": "b8e18e8b-9f3c-473d-8e85-6d02561a0789",
   "metadata": {},
   "outputs": [
    {
     "name": "stdout",
     "output_type": "stream",
     "text": [
      "[[3 5 2 4]\n",
      " [7 6 8 8]\n",
      " [1 6 7 7]]\n"
     ]
    }
   ],
   "source": [
    "print(x2)"
   ]
  },
  {
   "cell_type": "code",
   "execution_count": 52,
   "id": "b4c3027c-0ca1-4163-97ca-f964be35248d",
   "metadata": {},
   "outputs": [
    {
     "data": {
      "text/plain": [
       "array([[3, 5],\n",
       "       [7, 6]])"
      ]
     },
     "execution_count": 52,
     "metadata": {},
     "output_type": "execute_result"
    }
   ],
   "source": [
    "x2_sub = x2[:2,:2]\n",
    "x2_sub"
   ]
  },
  {
   "cell_type": "code",
   "execution_count": 53,
   "id": "91ecdd88-b62b-483a-8302-992143b01ab8",
   "metadata": {},
   "outputs": [
    {
     "data": {
      "text/plain": [
       "array([[12,  5],\n",
       "       [ 7,  6]])"
      ]
     },
     "execution_count": 53,
     "metadata": {},
     "output_type": "execute_result"
    }
   ],
   "source": [
    "x2_sub[0,0] = 12\n",
    "x2_sub"
   ]
  },
  {
   "cell_type": "code",
   "execution_count": 54,
   "id": "a2524bfb-82ab-4795-bc07-7036ba0be0b1",
   "metadata": {},
   "outputs": [
    {
     "data": {
      "text/plain": [
       "array([[12,  5,  2,  4],\n",
       "       [ 7,  6,  8,  8],\n",
       "       [ 1,  6,  7,  7]])"
      ]
     },
     "execution_count": 54,
     "metadata": {},
     "output_type": "execute_result"
    }
   ],
   "source": [
    "x2"
   ]
  },
  {
   "cell_type": "markdown",
   "id": "f7c2bd3d-95bb-41be-a981-07a426dad051",
   "metadata": {},
   "source": [
    "# Creating copies of Array"
   ]
  },
  {
   "cell_type": "code",
   "execution_count": 55,
   "id": "209f4680-442e-48fa-8d45-56451bbc4688",
   "metadata": {},
   "outputs": [
    {
     "data": {
      "text/plain": [
       "array([[12,  5],\n",
       "       [ 7,  6]])"
      ]
     },
     "execution_count": 55,
     "metadata": {},
     "output_type": "execute_result"
    }
   ],
   "source": [
    "x2_sub_copy = x2[:2,:2].copy()\n",
    "x2_sub_copy"
   ]
  },
  {
   "cell_type": "code",
   "execution_count": 56,
   "id": "f35ad3bc-ec7d-40d3-b8c4-55e197d01a50",
   "metadata": {},
   "outputs": [
    {
     "data": {
      "text/plain": [
       "array([[24,  5],\n",
       "       [ 7,  6]])"
      ]
     },
     "execution_count": 56,
     "metadata": {},
     "output_type": "execute_result"
    }
   ],
   "source": [
    "x2_sub_copy[0,0] = 24\n",
    "x2_sub_copy"
   ]
  },
  {
   "cell_type": "code",
   "execution_count": 57,
   "id": "42b02809-8768-4600-a464-dd0441d293b8",
   "metadata": {},
   "outputs": [
    {
     "data": {
      "text/plain": [
       "array([[12,  5,  2,  4],\n",
       "       [ 7,  6,  8,  8],\n",
       "       [ 1,  6,  7,  7]])"
      ]
     },
     "execution_count": 57,
     "metadata": {},
     "output_type": "execute_result"
    }
   ],
   "source": [
    "x2"
   ]
  },
  {
   "cell_type": "markdown",
   "id": "b870913c-cca7-43ed-8424-0e59c2fcee0b",
   "metadata": {},
   "source": [
    "# Reshaping Arrays (size of initial array must equal tsize of target array)"
   ]
  },
  {
   "cell_type": "code",
   "execution_count": 59,
   "id": "275648d5-6b09-4f49-a667-78d20df84a97",
   "metadata": {},
   "outputs": [
    {
     "data": {
      "text/plain": [
       "array([1, 2, 3, 4, 5, 6, 7, 8, 9])"
      ]
     },
     "execution_count": 59,
     "metadata": {},
     "output_type": "execute_result"
    }
   ],
   "source": [
    "line = np.arange(1,10)\n",
    "line"
   ]
  },
  {
   "cell_type": "code",
   "execution_count": 60,
   "id": "fe140e95-dc8d-4edc-ad24-4e9823e12435",
   "metadata": {},
   "outputs": [
    {
     "data": {
      "text/plain": [
       "array([[1, 2, 3],\n",
       "       [4, 5, 6],\n",
       "       [7, 8, 9]])"
      ]
     },
     "execution_count": 60,
     "metadata": {},
     "output_type": "execute_result"
    }
   ],
   "source": [
    "grid = line.copy().reshape((3,3))\n",
    "grid"
   ]
  },
  {
   "cell_type": "markdown",
   "id": "7d77dc98-0087-4ae7-893b-8c4553c18123",
   "metadata": {},
   "source": [
    "# Array concatenation and Splitting"
   ]
  },
  {
   "cell_type": "code",
   "execution_count": 63,
   "id": "e1b6478e-7a33-4ff6-a5dc-87320564a6ba",
   "metadata": {},
   "outputs": [
    {
     "data": {
      "text/plain": [
       "array([1, 2, 3, 4, 5, 6])"
      ]
     },
     "execution_count": 63,
     "metadata": {},
     "output_type": "execute_result"
    }
   ],
   "source": [
    "x = np.array([1,2,3])\n",
    "y  = np.array([4,5,6])\n",
    "np.concatenate([x,y])"
   ]
  },
  {
   "cell_type": "code",
   "execution_count": 66,
   "id": "471c5b02-8570-4cc6-9543-bf760e946630",
   "metadata": {},
   "outputs": [
    {
     "data": {
      "text/plain": [
       "array([1, 2, 3, 4, 5, 6, 7, 8, 9])"
      ]
     },
     "execution_count": 66,
     "metadata": {},
     "output_type": "execute_result"
    }
   ],
   "source": [
    "z  = np.array([7,8,9])\n",
    "np.concatenate([x,y,z])"
   ]
  },
  {
   "cell_type": "code",
   "execution_count": 70,
   "id": "9858388e-771b-438e-819d-ab230e44746a",
   "metadata": {},
   "outputs": [
    {
     "data": {
      "text/plain": [
       "array([[0, 0, 0],\n",
       "       [0, 0, 0],\n",
       "       [0, 0, 0]])"
      ]
     },
     "execution_count": 70,
     "metadata": {},
     "output_type": "execute_result"
    }
   ],
   "source": [
    "grid1 = np.zeros((3,3),dtype=int)\n",
    "grid1"
   ]
  },
  {
   "cell_type": "code",
   "execution_count": 71,
   "id": "1125e91c-80bb-4c1c-8add-1893e10342c1",
   "metadata": {},
   "outputs": [
    {
     "data": {
      "text/plain": [
       "array([[1, 1, 1],\n",
       "       [1, 1, 1],\n",
       "       [1, 1, 1]])"
      ]
     },
     "execution_count": 71,
     "metadata": {},
     "output_type": "execute_result"
    }
   ],
   "source": [
    "grid2 = np.ones((3,3),dtype=int)\n",
    "grid2"
   ]
  },
  {
   "cell_type": "code",
   "execution_count": 75,
   "id": "4feb9470-dabd-4d63-a84a-97eecd44871d",
   "metadata": {},
   "outputs": [
    {
     "data": {
      "text/plain": [
       "array([[0, 0, 0],\n",
       "       [0, 0, 0],\n",
       "       [0, 0, 0],\n",
       "       [1, 1, 1],\n",
       "       [1, 1, 1],\n",
       "       [1, 1, 1]])"
      ]
     },
     "execution_count": 75,
     "metadata": {},
     "output_type": "execute_result"
    }
   ],
   "source": [
    "np.concatenate([grid1,grid2],axis=0) # verticall concatenation"
   ]
  },
  {
   "cell_type": "code",
   "execution_count": 76,
   "id": "175d80f1-ca08-40ff-a474-d7fd07a6b946",
   "metadata": {},
   "outputs": [
    {
     "data": {
      "text/plain": [
       "array([[0, 0, 0, 1, 1, 1],\n",
       "       [0, 0, 0, 1, 1, 1],\n",
       "       [0, 0, 0, 1, 1, 1]])"
      ]
     },
     "execution_count": 76,
     "metadata": {},
     "output_type": "execute_result"
    }
   ],
   "source": [
    "np.concatenate([grid1,grid2],axis=1) # Horizontal concatenation"
   ]
  },
  {
   "cell_type": "code",
   "execution_count": 78,
   "id": "5e289a9a-a3a7-4cd2-bae4-6c5dc0187eb7",
   "metadata": {},
   "outputs": [
    {
     "data": {
      "text/plain": [
       "array([[0, 0, 0],\n",
       "       [0, 0, 0],\n",
       "       [0, 0, 0],\n",
       "       [1, 1, 1],\n",
       "       [1, 1, 1],\n",
       "       [1, 1, 1]])"
      ]
     },
     "execution_count": 78,
     "metadata": {},
     "output_type": "execute_result"
    }
   ],
   "source": [
    "np.vstack([grid1,grid2])"
   ]
  },
  {
   "cell_type": "code",
   "execution_count": 80,
   "id": "3104441a-464d-4f52-9dec-4477cf01d0e6",
   "metadata": {},
   "outputs": [
    {
     "data": {
      "text/plain": [
       "array([[0, 0, 0, 1, 1, 1],\n",
       "       [0, 0, 0, 1, 1, 1],\n",
       "       [0, 0, 0, 1, 1, 1]])"
      ]
     },
     "execution_count": 80,
     "metadata": {},
     "output_type": "execute_result"
    }
   ],
   "source": [
    "np.hstack([grid1,grid2])"
   ]
  },
  {
   "cell_type": "markdown",
   "id": "c309f2e7-c9f7-4345-92be-134448b408cc",
   "metadata": {},
   "source": [
    "# Splitting of arrays"
   ]
  },
  {
   "cell_type": "code",
   "execution_count": 85,
   "id": "b0ebcaff-ed9c-4ed7-beb5-4796af354891",
   "metadata": {},
   "outputs": [
    {
     "data": {
      "text/plain": [
       "(array([1, 2]), array([3, 4, 5]), array([6, 7, 8]), array([9, 0]))"
      ]
     },
     "execution_count": 85,
     "metadata": {},
     "output_type": "execute_result"
    }
   ],
   "source": [
    "x = [1,2,3,4,5,6,7,8,9,0]\n",
    "x1, x2, x3, x4 = np.split(x , [2,5,8])\n",
    "x1, x2, x3, x4"
   ]
  },
  {
   "cell_type": "code",
   "execution_count": 86,
   "id": "bad6cb6b-a8d1-4b8c-8d4b-37ff498b8d0b",
   "metadata": {},
   "outputs": [
    {
     "data": {
      "text/plain": [
       "array([[ 0,  1,  2,  3],\n",
       "       [ 4,  5,  6,  7],\n",
       "       [ 8,  9, 10, 11],\n",
       "       [12, 13, 14, 15]])"
      ]
     },
     "execution_count": 86,
     "metadata": {},
     "output_type": "execute_result"
    }
   ],
   "source": [
    "grid = np.arange(16).reshape((4,4))\n",
    "grid"
   ]
  },
  {
   "cell_type": "code",
   "execution_count": 89,
   "id": "ea979de7-1a19-4b5c-9332-ce23a947fb6c",
   "metadata": {},
   "outputs": [
    {
     "data": {
      "text/plain": [
       "array([[0, 1, 2, 3],\n",
       "       [4, 5, 6, 7]])"
      ]
     },
     "execution_count": 89,
     "metadata": {},
     "output_type": "execute_result"
    }
   ],
   "source": [
    "upper, lower = np.vsplit(grid, [2])\n",
    "upper"
   ]
  },
  {
   "cell_type": "code",
   "execution_count": 90,
   "id": "281838a6-2110-4be7-935f-719a8d0b86af",
   "metadata": {},
   "outputs": [
    {
     "data": {
      "text/plain": [
       "array([[ 0,  1],\n",
       "       [ 4,  5],\n",
       "       [ 8,  9],\n",
       "       [12, 13]])"
      ]
     },
     "execution_count": 90,
     "metadata": {},
     "output_type": "execute_result"
    }
   ],
   "source": [
    "upper, lower = np.hsplit(grid, [2])\n",
    "upper"
   ]
  }
 ],
 "metadata": {
  "kernelspec": {
   "display_name": "Python 3 (ipykernel)",
   "language": "python",
   "name": "python3"
  },
  "language_info": {
   "codemirror_mode": {
    "name": "ipython",
    "version": 3
   },
   "file_extension": ".py",
   "mimetype": "text/x-python",
   "name": "python",
   "nbconvert_exporter": "python",
   "pygments_lexer": "ipython3",
   "version": "3.10.5"
  }
 },
 "nbformat": 4,
 "nbformat_minor": 5
}
