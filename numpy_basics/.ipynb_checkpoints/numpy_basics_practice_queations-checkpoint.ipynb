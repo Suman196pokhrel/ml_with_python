{
 "cells": [
  {
   "cell_type": "code",
   "execution_count": 1,
   "id": "2489ec8b-4d95-4a23-8b96-46cb4ce5a520",
   "metadata": {},
   "outputs": [],
   "source": [
    "import numpy as np"
   ]
  },
  {
   "cell_type": "code",
   "execution_count": 14,
   "id": "8b171fb8-bca2-411d-8c1e-333bdb98f0e6",
   "metadata": {},
   "outputs": [
    {
     "data": {
      "text/plain": [
       "(array([6.23042070e-307, 4.67296746e-307, 1.69121096e-306, 1.37962185e-306,\n",
       "        1.89146896e-307, 7.56571288e-307, 3.11525958e-307, 1.24610723e-306,\n",
       "        1.29061142e-306, 5.53353523e-322]),\n",
       " array([[5, 5, 5],\n",
       "        [5, 5, 5],\n",
       "        [5, 5, 5]]))"
      ]
     },
     "execution_count": 14,
     "metadata": {},
     "output_type": "execute_result"
    }
   ],
   "source": [
    "# Q1 \n",
    "np.empty(10), np.full(fill_value=5, shape=(3,3))"
   ]
  },
  {
   "cell_type": "code",
   "execution_count": 18,
   "id": "2e457f3e-dbb5-49be-96d9-7a4867b6ba88",
   "metadata": {},
   "outputs": [
    {
     "data": {
      "text/plain": [
       "(array([[0., 0., 0.],\n",
       "        [0., 0., 0.],\n",
       "        [0., 0., 0.]]),\n",
       " array([0., 0., 0.]))"
      ]
     },
     "execution_count": 18,
     "metadata": {},
     "output_type": "execute_result"
    }
   ],
   "source": [
    "# 2\n",
    "np.zeros((3,3)), np.zeros(3)"
   ]
  },
  {
   "cell_type": "code",
   "execution_count": 19,
   "id": "99c90a8f-cd25-4c27-afaf-421dac95085d",
   "metadata": {},
   "outputs": [
    {
     "data": {
      "text/plain": [
       "(array([[1., 1., 1.],\n",
       "        [1., 1., 1.],\n",
       "        [1., 1., 1.]]),\n",
       " array([1., 1., 1.]))"
      ]
     },
     "execution_count": 19,
     "metadata": {},
     "output_type": "execute_result"
    }
   ],
   "source": [
    "# 3 \n",
    "np.ones((3,3)),np.ones(3)"
   ]
  },
  {
   "cell_type": "code",
   "execution_count": 32,
   "id": "1a5fac71-b072-4ebe-bedd-0d353555534c",
   "metadata": {},
   "outputs": [
    {
     "data": {
      "text/plain": [
       "False"
      ]
     },
     "execution_count": 32,
     "metadata": {},
     "output_type": "execute_result"
    }
   ],
   "source": [
    "# Check if there is a spicified row in numpy array\n",
    "arr = np.arange(0,9).reshape((3,3))\n",
    "[0,2,3] in arr.tolist()"
   ]
  },
  {
   "cell_type": "code",
   "execution_count": 44,
   "id": "72de5928-2851-43e7-8cb6-d58f0425a174",
   "metadata": {},
   "outputs": [
    {
     "data": {
      "text/plain": [
       "array([[11., 22., 33.]])"
      ]
     },
     "execution_count": 44,
     "metadata": {},
     "output_type": "execute_result"
    }
   ],
   "source": [
    "# remove rows in np array with non-numeric values\n",
    "arr = np.array([[11,22,33],\n",
    "                [44,np.nan,55],\n",
    "               [np.nan,np.nan,np.nan]])\n",
    "\n",
    "# arr[np.isnan(arr)]\n",
    "arr[~np.isnan(arr).any(axis=1)]"
   ]
  },
  {
   "cell_type": "code",
   "execution_count": 46,
   "id": "3e4f8eba-a12d-4325-9cee-31e999583ec4",
   "metadata": {},
   "outputs": [
    {
     "data": {
      "text/plain": [
       "11"
      ]
     },
     "execution_count": 46,
     "metadata": {},
     "output_type": "execute_result"
    }
   ],
   "source": [
    "# Find most frequent value in numpy array\n",
    "arr = np.array([11,22,33,11,22,11,11,55,66,77,7,7,77,77,77,44,33,33,99,99,11,11])\n",
    "\n",
    "np.bincount(arr).argmax()"
   ]
  }
 ],
 "metadata": {
  "kernelspec": {
   "display_name": "Python 3 (ipykernel)",
   "language": "python",
   "name": "python3"
  },
  "language_info": {
   "codemirror_mode": {
    "name": "ipython",
    "version": 3
   },
   "file_extension": ".py",
   "mimetype": "text/x-python",
   "name": "python",
   "nbconvert_exporter": "python",
   "pygments_lexer": "ipython3",
   "version": "3.10.5"
  }
 },
 "nbformat": 4,
 "nbformat_minor": 5
}
