{
 "cells": [
  {
   "cell_type": "markdown",
   "id": "e5d07c94-f92a-44ac-92ec-dc553ce95084",
   "metadata": {},
   "source": [
    "## Intro to numpy and its core builtin fucntions"
   ]
  },
  {
   "cell_type": "code",
   "execution_count": 1,
   "id": "d6511056-2677-409f-834e-789b5eb5353f",
   "metadata": {},
   "outputs": [],
   "source": [
    "import numpy as np"
   ]
  },
  {
   "cell_type": "code",
   "execution_count": 3,
   "id": "552e99ab-b1e8-42cc-b1e4-29d4d76b2fca",
   "metadata": {},
   "outputs": [
    {
     "data": {
      "text/plain": [
       "'1.23.4'"
      ]
     },
     "execution_count": 3,
     "metadata": {},
     "output_type": "execute_result"
    }
   ],
   "source": [
    "np.__version__"
   ]
  },
  {
   "cell_type": "markdown",
   "id": "7ab606e4-4059-467b-a6d1-60ab3f2b0c12",
   "metadata": {},
   "source": [
    "1. Creating arrays from Python Lists"
   ]
  },
  {
   "cell_type": "code",
   "execution_count": 4,
   "id": "1d6a53d5-88f4-4c7f-ab43-5ca223633259",
   "metadata": {},
   "outputs": [
    {
     "data": {
      "text/plain": [
       "array([11, 22, 33, 44, 55])"
      ]
     },
     "execution_count": 4,
     "metadata": {},
     "output_type": "execute_result"
    }
   ],
   "source": [
    "np.array([11,22,33,44,55])"
   ]
  },
  {
   "cell_type": "code",
   "execution_count": 6,
   "id": "73295d8e-8f39-4180-a7cf-9badb91ead3f",
   "metadata": {},
   "outputs": [
    {
     "data": {
      "text/plain": [
       "array([11.1, 22. , 33. , 44. , 55. ])"
      ]
     },
     "execution_count": 6,
     "metadata": {},
     "output_type": "execute_result"
    }
   ],
   "source": [
    "np.array([11.1,22,33,44,55])"
   ]
  },
  {
   "cell_type": "markdown",
   "id": "d6e61ef5-fc93-457a-9c84-3b8fca6f0317",
   "metadata": {},
   "source": [
    "2. Creating arrays From Scratch"
   ]
  },
  {
   "cell_type": "code",
   "execution_count": 8,
   "id": "49cfb229-71b9-4d72-b4e6-35e5da92cc0e",
   "metadata": {},
   "outputs": [
    {
     "data": {
      "text/plain": [
       "array([0, 0, 0, 0, 0, 0, 0, 0, 0, 0])"
      ]
     },
     "execution_count": 8,
     "metadata": {},
     "output_type": "execute_result"
    }
   ],
   "source": [
    "np.zeros(10,dtype=int)"
   ]
  },
  {
   "cell_type": "code",
   "execution_count": 10,
   "id": "6e1acb6d-8512-4fbd-91a9-93c788029d76",
   "metadata": {},
   "outputs": [
    {
     "data": {
      "text/plain": [
       "array([[0., 0., 0.],\n",
       "       [0., 0., 0.],\n",
       "       [0., 0., 0.]])"
      ]
     },
     "execution_count": 10,
     "metadata": {},
     "output_type": "execute_result"
    }
   ],
   "source": [
    "np.zeros((3,3),dtype=float)"
   ]
  },
  {
   "cell_type": "code",
   "execution_count": 11,
   "id": "51ab4c3c-8825-4883-ae1e-06e46bbde768",
   "metadata": {},
   "outputs": [
    {
     "data": {
      "text/plain": [
       "array([[1., 1., 1., 1., 1.],\n",
       "       [1., 1., 1., 1., 1.],\n",
       "       [1., 1., 1., 1., 1.],\n",
       "       [1., 1., 1., 1., 1.],\n",
       "       [1., 1., 1., 1., 1.]])"
      ]
     },
     "execution_count": 11,
     "metadata": {},
     "output_type": "execute_result"
    }
   ],
   "source": [
    "np.ones((5,5))"
   ]
  },
  {
   "cell_type": "code",
   "execution_count": 13,
   "id": "6ee85226-ac95-4127-ad87-b331a55a516a",
   "metadata": {},
   "outputs": [
    {
     "data": {
      "text/plain": [
       "array([[1121, 1121, 1121, 1121],\n",
       "       [1121, 1121, 1121, 1121],\n",
       "       [1121, 1121, 1121, 1121]])"
      ]
     },
     "execution_count": 13,
     "metadata": {},
     "output_type": "execute_result"
    }
   ],
   "source": [
    "np.full((3,4),1121)"
   ]
  },
  {
   "cell_type": "code",
   "execution_count": 19,
   "id": "e8472ff5-5b5b-4ae8-a761-699e0e41734c",
   "metadata": {},
   "outputs": [
    {
     "data": {
      "text/plain": [
       "array([0, 2, 4, 6, 8])"
      ]
     },
     "execution_count": 19,
     "metadata": {},
     "output_type": "execute_result"
    }
   ],
   "source": [
    "np.arange(0,10,2) # array filled with linear sequence "
   ]
  },
  {
   "cell_type": "code",
   "execution_count": 23,
   "id": "0410b22d-5bf8-48ae-ba50-3b229be006c9",
   "metadata": {},
   "outputs": [
    {
     "data": {
      "text/plain": [
       "array([0.  , 0.25, 0.5 , 0.75, 1.  ])"
      ]
     },
     "execution_count": 23,
     "metadata": {},
     "output_type": "execute_result"
    }
   ],
   "source": [
    "np.linspace(0,1, 5)  # 5 values equally spaces between 0 1nd 1"
   ]
  },
  {
   "cell_type": "code",
   "execution_count": 26,
   "id": "b041fda5-d7ef-4528-b355-89e3d9ecbbfb",
   "metadata": {},
   "outputs": [
    {
     "data": {
      "text/plain": [
       "array([[0.7065798 , 0.86344637, 0.96805514],\n",
       "       [0.60844711, 0.13401673, 0.31557755],\n",
       "       [0.79849366, 0.5626241 , 0.30951334]])"
      ]
     },
     "execution_count": 26,
     "metadata": {},
     "output_type": "execute_result"
    }
   ],
   "source": [
    "np.random.random((3,3)) # values are uniformly distributed between 0 to 1"
   ]
  },
  {
   "cell_type": "code",
   "execution_count": 27,
   "id": "dc86018c-6635-442e-be9b-a4f8f557dc24",
   "metadata": {},
   "outputs": [
    {
     "data": {
      "text/plain": [
       "array([[-1.40594842, -0.77262296,  0.43516449],\n",
       "       [-1.29764551, -0.33076848, -0.37897349],\n",
       "       [ 1.1127344 , -1.16789877,  0.61984976]])"
      ]
     },
     "execution_count": 27,
     "metadata": {},
     "output_type": "execute_result"
    }
   ],
   "source": [
    "np.random.normal(0,1,(3,3)) # values are normally distributed with mean 0 and standard deviation 1"
   ]
  },
  {
   "cell_type": "markdown",
   "id": "146d373c-846a-421f-a4e7-7916411f8a67",
   "metadata": {},
   "source": [
    "2.1 create a 3x3 array with random elements from 0 to 1 "
   ]
  },
  {
   "cell_type": "code",
   "execution_count": 45,
   "id": "98573c1e-97ac-4798-8ce8-5eb01b4cbd8c",
   "metadata": {},
   "outputs": [
    {
     "data": {
      "text/plain": [
       "array([[ 1.97753109, -0.27382868, -0.03717511],\n",
       "       [-0.04424579, -0.92671521, -0.10983698],\n",
       "       [ 0.44733671, -0.20634234,  1.39208507]])"
      ]
     },
     "execution_count": 45,
     "metadata": {},
     "output_type": "execute_result"
    }
   ],
   "source": [
    "np.random.normal(0,1,(3,3))"
   ]
  },
  {
   "cell_type": "code",
   "execution_count": 46,
   "id": "6f00e695-6680-47cf-8424-8f0d2b14f1da",
   "metadata": {},
   "outputs": [
    {
     "data": {
      "text/plain": [
       "array([[0, 6],\n",
       "       [0, 5]])"
      ]
     },
     "execution_count": 46,
     "metadata": {},
     "output_type": "execute_result"
    }
   ],
   "source": [
    "np.random.randint(0,10,(2,2))"
   ]
  },
  {
   "cell_type": "code",
   "execution_count": 48,
   "id": "666e328a-8979-4599-ae0b-283793db1043",
   "metadata": {},
   "outputs": [
    {
     "data": {
      "text/plain": [
       "array([4.23815194e+175, 6.97844692e+252, 2.44138683e-152])"
      ]
     },
     "execution_count": 48,
     "metadata": {},
     "output_type": "execute_result"
    }
   ],
   "source": [
    "np.empty(3)"
   ]
  }
 ],
 "metadata": {
  "kernelspec": {
   "display_name": "Python 3 (ipykernel)",
   "language": "python",
   "name": "python3"
  },
  "language_info": {
   "codemirror_mode": {
    "name": "ipython",
    "version": 3
   },
   "file_extension": ".py",
   "mimetype": "text/x-python",
   "name": "python",
   "nbconvert_exporter": "python",
   "pygments_lexer": "ipython3",
   "version": "3.10.5"
  }
 },
 "nbformat": 4,
 "nbformat_minor": 5
}
