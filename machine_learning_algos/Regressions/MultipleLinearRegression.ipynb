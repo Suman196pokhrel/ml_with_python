{
 "cells": [
  {
   "cell_type": "code",
   "execution_count": 1,
   "metadata": {},
   "outputs": [],
   "source": [
    "from sklearn.datasets import make_regression\n",
    "import pandas as pd\n",
    "import numpy as np\n",
    "\n",
    "import plotly.express as px\n",
    "import plotly.graph_objects as go\n",
    "\n",
    "from sklearn.metrics import mean_absolute_error, mean_squared_error, r2_score\n",
    "\n",
    "X, y = make_regression(n_samples=100, n_features=2, n_informative=2, n_targets=1, noise=50)\n",
    "df = pd.DataFrame({'feature_1':X[:,0], 'feature_2':X[:,1],'target':y})"
   ]
  },
  {
   "cell_type": "code",
   "execution_count": 2,
   "metadata": {},
   "outputs": [
    {
     "data": {
      "text/html": [
       "<div>\n",
       "<style scoped>\n",
       "    .dataframe tbody tr th:only-of-type {\n",
       "        vertical-align: middle;\n",
       "    }\n",
       "\n",
       "    .dataframe tbody tr th {\n",
       "        vertical-align: top;\n",
       "    }\n",
       "\n",
       "    .dataframe thead th {\n",
       "        text-align: right;\n",
       "    }\n",
       "</style>\n",
       "<table border=\"1\" class=\"dataframe\">\n",
       "  <thead>\n",
       "    <tr style=\"text-align: right;\">\n",
       "      <th></th>\n",
       "      <th>feature_1</th>\n",
       "      <th>feature_2</th>\n",
       "      <th>target</th>\n",
       "    </tr>\n",
       "  </thead>\n",
       "  <tbody>\n",
       "    <tr>\n",
       "      <th>0</th>\n",
       "      <td>-0.636110</td>\n",
       "      <td>-0.287758</td>\n",
       "      <td>18.290952</td>\n",
       "    </tr>\n",
       "    <tr>\n",
       "      <th>1</th>\n",
       "      <td>0.440142</td>\n",
       "      <td>-0.574001</td>\n",
       "      <td>30.937827</td>\n",
       "    </tr>\n",
       "    <tr>\n",
       "      <th>2</th>\n",
       "      <td>0.972087</td>\n",
       "      <td>0.832288</td>\n",
       "      <td>12.403156</td>\n",
       "    </tr>\n",
       "    <tr>\n",
       "      <th>3</th>\n",
       "      <td>1.577379</td>\n",
       "      <td>-1.021017</td>\n",
       "      <td>50.141079</td>\n",
       "    </tr>\n",
       "    <tr>\n",
       "      <th>4</th>\n",
       "      <td>0.668210</td>\n",
       "      <td>-1.358368</td>\n",
       "      <td>-75.843824</td>\n",
       "    </tr>\n",
       "  </tbody>\n",
       "</table>\n",
       "</div>"
      ],
      "text/plain": [
       "   feature_1  feature_2     target\n",
       "0  -0.636110  -0.287758  18.290952\n",
       "1   0.440142  -0.574001  30.937827\n",
       "2   0.972087   0.832288  12.403156\n",
       "3   1.577379  -1.021017  50.141079\n",
       "4   0.668210  -1.358368 -75.843824"
      ]
     },
     "execution_count": 2,
     "metadata": {},
     "output_type": "execute_result"
    }
   ],
   "source": [
    "df.head()"
   ]
  },
  {
   "cell_type": "code",
   "execution_count": 4,
   "metadata": {},
   "outputs": [
    {
     "data": {
      "application/vnd.plotly.v1+json": {
       "config": {
        "plotlyServerURL": "https://plot.ly"
       },
       "data": [
        {
         "hovertemplate": "feature_1=%{x}<br>feature_2=%{y}<br>target=%{z}<extra></extra>",
         "legendgroup": "",
         "marker": {
          "color": "#636efa",
          "symbol": "circle"
         },
         "mode": "markers",
         "name": "",
         "scene": "scene",
         "showlegend": false,
         "type": "scatter3d",
         "x": [
          -0.6361097284154765,
          0.4401415663069315,
          0.9720868582298237,
          1.5773787065419667,
          0.6682099867922651,
          -0.082574477351577,
          -0.607188494352706,
          0.4218469118263737,
          -0.9240276542780939,
          -1.273232846490226,
          -1.205134648303395,
          -0.9942628639022233,
          -1.0113771275766266,
          -0.5045930333073447,
          1.4927184827257762,
          1.0597918729739921,
          -0.5261455580618689,
          -0.9176136776858997,
          -0.5419524178177024,
          -1.2952720242081828,
          0.5162225525718794,
          -0.8615694651947398,
          -0.682078185775451,
          -0.004536958586473089,
          -0.8238352800546281,
          0.6444239271753869,
          1.638291046078339,
          -1.7999910667305363,
          -2.4383229690033703,
          -0.6070407128322901,
          -0.15198895598601792,
          0.2865208339035002,
          0.8771409088830532,
          0.7990080608378486,
          0.5734555910219936,
          0.14508239408240947,
          -2.2218774461251476,
          -0.4746694843370704,
          1.472250003561606,
          0.18659436389638173,
          -1.2997257887651383,
          0.5820520478429956,
          -0.015272163125852417,
          2.1535076076771755,
          -0.8304965451928641,
          -0.5788896529903934,
          -0.347746777823636,
          -0.8117890007968342,
          -0.7636921068142074,
          1.5869013257795814,
          0.04554720710525077,
          0.7221042784682314,
          0.8344219508641266,
          0.8431599022187048,
          -0.9444248833987217,
          -0.8427921634422368,
          -0.6132603612281647,
          0.9383134223724668,
          -2.5796736555777913,
          -0.6076302120356983,
          -0.5527011913876482,
          0.6914431226001838,
          -0.4130121110259754,
          -1.0732821742591756,
          -1.6781949391049809,
          -1.402497028872698,
          -1.0457157628961873,
          -0.8950296926434567,
          0.7653610574196815,
          -0.861946604153181,
          -0.7323285029681404,
          0.06179631982605489,
          0.6807802254157698,
          -1.348384440733875,
          -0.29824589696775966,
          -0.789347226175045,
          -0.9829400214386669,
          0.5763930113612267,
          -0.25119475527159285,
          -1.0610648596695866,
          -0.3207569344648581,
          -1.4378460919151295,
          -0.7772122627353811,
          -0.7416390056861134,
          0.4150801935218168,
          1.002427950885933,
          -1.079647449685947,
          -0.830322859819342,
          0.6250356821278353,
          -0.034864930552616386,
          -0.5131032626722906,
          0.645921347291328,
          0.5799157048011773,
          -0.5838316698048394,
          0.06900853209208324,
          -0.774015871002916,
          0.24560329368423595,
          0.8186780647401425,
          1.4294357923657617,
          0.6256816029976382
         ],
         "y": [
          -0.2877583452351194,
          -0.5740005454200553,
          0.8322878708787238,
          -1.0210168848997967,
          -1.3583678680447953,
          0.615576098556784,
          -0.5276114309476919,
          0.04357064458312319,
          -0.6935915476800545,
          -0.566945366311653,
          -1.4461748273514656,
          -1.6701902571419713,
          -1.0816803865924314,
          0.4467756416076298,
          0.6996754569032199,
          0.6777649558729368,
          -1.6989515877900585,
          1.671073103143928,
          -0.5612215635652722,
          -0.31577790142194023,
          0.15080229210571564,
          0.8128091988926986,
          -1.3744841891487465,
          -1.3460649246797025,
          0.6293307607859796,
          1.111058437927903,
          -0.41210432759002047,
          -0.7688319969768889,
          -1.4890900872563453,
          -0.17147726671808972,
          0.4290529001613939,
          0.6144889774068335,
          0.2974281682333469,
          0.11753066141841907,
          1.5051310207867754,
          -1.3051759916093015,
          -1.4262556838209999,
          -0.771697267594768,
          0.16515810168697376,
          -0.5492807304390291,
          0.5689304243912889,
          -2.2180934625753843,
          0.4160726574229978,
          -1.9866991586009506,
          0.832122626341337,
          -0.5338693053652089,
          1.1148167172770302,
          -0.9230523167357316,
          -1.8453776580239352,
          -0.6788430542411947,
          1.6463489023006406,
          -0.8479189757471589,
          0.6341027088754182,
          -0.37257258202927873,
          -0.4184159494588898,
          0.25616142802118574,
          -1.26591960390429,
          1.4531564833599464,
          0.5411379259437423,
          -0.2220745629717942,
          1.0065973311264311,
          0.2753541137729621,
          0.8567262159637686,
          -0.028032840600560664,
          0.15244279160625515,
          0.7849864277532376,
          0.4993668533978425,
          -0.4417897780930285,
          -0.8877216624710036,
          -1.3210664359315687,
          -0.8816187833078396,
          -0.5418217805296335,
          -1.4612014150571746,
          0.509223412822253,
          -1.1523996257568228,
          -0.9847925976792518,
          -0.9422278702765255,
          0.14864971588624237,
          0.40325002800686044,
          0.2867492648682884,
          0.7415381917626243,
          -0.442727937234756,
          0.0974800774373651,
          -0.48747312225789363,
          1.8211560117001568,
          -1.2565681532326995,
          0.39205353629725703,
          0.5154284051224934,
          2.2646889598722244,
          0.5514236732096105,
          0.4245007849662009,
          0.9064808848725918,
          1.744885418141716,
          1.44558743192853,
          0.3750714308367979,
          -0.5352314950107734,
          1.2645094662832845,
          0.7814154435062227,
          1.3396775745115561,
          -1.944631093951254
         ],
         "z": [
          18.290951623636083,
          30.937827055494658,
          12.40315629972622,
          50.14107949050551,
          -75.84382394755707,
          -15.197907507682396,
          17.200166519317325,
          -108.84079552487161,
          -60.20160137747784,
          -7.74534090027386,
          -69.79246562537105,
          -96.56351650006857,
          -49.6521888416253,
          38.39538018405362,
          43.16925796424053,
          -42.951599530755644,
          -48.32513239604582,
          -38.58320481414058,
          -74.71421990477177,
          46.64325610712585,
          -4.183756130525182,
          4.161402905547444,
          -57.06852816260319,
          32.99011342741834,
          52.175672925377384,
          66.6173476363204,
          9.073824740176672,
          -8.225439423657871,
          -64.68157064889988,
          35.60426300180916,
          44.9008868911051,
          6.536147465807298,
          17.875071023127838,
          -41.25312744555787,
          56.79539131910613,
          -128.68659087404683,
          7.999269425389791,
          -69.1253952265873,
          24.225285013627932,
          -0.6199035913011048,
          4.115312439541034,
          -5.123399740244324,
          23.04214655697743,
          -58.450556145753424,
          -10.99828008279432,
          -52.27918862683961,
          136.82620922735038,
          39.36881291311967,
          -67.8421256053937,
          -104.87082866702639,
          24.92724950097687,
          -105.95604305490163,
          -8.42307088904774,
          113.45616206868422,
          -39.21656249070367,
          51.75819672954755,
          -31.60800612545006,
          60.619093439300286,
          -94.7460254368462,
          -88.50608244504076,
          86.6997393767951,
          12.080219730136658,
          -27.83279706626943,
          30.051212092258115,
          3.670465383367377,
          -27.08056657606106,
          64.90682145228274,
          -46.69839317753489,
          6.024950615929349,
          -34.14494794625007,
          -62.72761924100226,
          -27.360719352591637,
          -7.760021280702336,
          -52.20502967876926,
          -22.378211273994992,
          -119.24432491745652,
          -1.2519256371061438,
          41.93452076105988,
          -23.37722716867134,
          -21.308142496715345,
          66.52884748947987,
          -109.6956361142208,
          -9.69580562712472,
          -18.70524782522856,
          77.38051752309562,
          -36.67501910975609,
          -48.85262807223749,
          18.4191909379883,
          129.76959192921305,
          88.73745600691608,
          -20.796369447595634,
          23.8033097680447,
          66.90871770824127,
          77.3273161167276,
          20.430409486654177,
          -59.416151207881605,
          122.47353247066175,
          106.85989358928046,
          -19.072536899784467,
          -8.565815609518943
         ]
        }
       ],
       "layout": {
        "legend": {
         "tracegroupgap": 0
        },
        "margin": {
         "t": 60
        },
        "scene": {
         "domain": {
          "x": [
           0,
           1
          ],
          "y": [
           0,
           1
          ]
         },
         "xaxis": {
          "title": {
           "text": "feature_1"
          }
         },
         "yaxis": {
          "title": {
           "text": "feature_2"
          }
         },
         "zaxis": {
          "title": {
           "text": "target"
          }
         }
        },
        "template": {
         "data": {
          "bar": [
           {
            "error_x": {
             "color": "#2a3f5f"
            },
            "error_y": {
             "color": "#2a3f5f"
            },
            "marker": {
             "line": {
              "color": "#E5ECF6",
              "width": 0.5
             },
             "pattern": {
              "fillmode": "overlay",
              "size": 10,
              "solidity": 0.2
             }
            },
            "type": "bar"
           }
          ],
          "barpolar": [
           {
            "marker": {
             "line": {
              "color": "#E5ECF6",
              "width": 0.5
             },
             "pattern": {
              "fillmode": "overlay",
              "size": 10,
              "solidity": 0.2
             }
            },
            "type": "barpolar"
           }
          ],
          "carpet": [
           {
            "aaxis": {
             "endlinecolor": "#2a3f5f",
             "gridcolor": "white",
             "linecolor": "white",
             "minorgridcolor": "white",
             "startlinecolor": "#2a3f5f"
            },
            "baxis": {
             "endlinecolor": "#2a3f5f",
             "gridcolor": "white",
             "linecolor": "white",
             "minorgridcolor": "white",
             "startlinecolor": "#2a3f5f"
            },
            "type": "carpet"
           }
          ],
          "choropleth": [
           {
            "colorbar": {
             "outlinewidth": 0,
             "ticks": ""
            },
            "type": "choropleth"
           }
          ],
          "contour": [
           {
            "colorbar": {
             "outlinewidth": 0,
             "ticks": ""
            },
            "colorscale": [
             [
              0,
              "#0d0887"
             ],
             [
              0.1111111111111111,
              "#46039f"
             ],
             [
              0.2222222222222222,
              "#7201a8"
             ],
             [
              0.3333333333333333,
              "#9c179e"
             ],
             [
              0.4444444444444444,
              "#bd3786"
             ],
             [
              0.5555555555555556,
              "#d8576b"
             ],
             [
              0.6666666666666666,
              "#ed7953"
             ],
             [
              0.7777777777777778,
              "#fb9f3a"
             ],
             [
              0.8888888888888888,
              "#fdca26"
             ],
             [
              1,
              "#f0f921"
             ]
            ],
            "type": "contour"
           }
          ],
          "contourcarpet": [
           {
            "colorbar": {
             "outlinewidth": 0,
             "ticks": ""
            },
            "type": "contourcarpet"
           }
          ],
          "heatmap": [
           {
            "colorbar": {
             "outlinewidth": 0,
             "ticks": ""
            },
            "colorscale": [
             [
              0,
              "#0d0887"
             ],
             [
              0.1111111111111111,
              "#46039f"
             ],
             [
              0.2222222222222222,
              "#7201a8"
             ],
             [
              0.3333333333333333,
              "#9c179e"
             ],
             [
              0.4444444444444444,
              "#bd3786"
             ],
             [
              0.5555555555555556,
              "#d8576b"
             ],
             [
              0.6666666666666666,
              "#ed7953"
             ],
             [
              0.7777777777777778,
              "#fb9f3a"
             ],
             [
              0.8888888888888888,
              "#fdca26"
             ],
             [
              1,
              "#f0f921"
             ]
            ],
            "type": "heatmap"
           }
          ],
          "heatmapgl": [
           {
            "colorbar": {
             "outlinewidth": 0,
             "ticks": ""
            },
            "colorscale": [
             [
              0,
              "#0d0887"
             ],
             [
              0.1111111111111111,
              "#46039f"
             ],
             [
              0.2222222222222222,
              "#7201a8"
             ],
             [
              0.3333333333333333,
              "#9c179e"
             ],
             [
              0.4444444444444444,
              "#bd3786"
             ],
             [
              0.5555555555555556,
              "#d8576b"
             ],
             [
              0.6666666666666666,
              "#ed7953"
             ],
             [
              0.7777777777777778,
              "#fb9f3a"
             ],
             [
              0.8888888888888888,
              "#fdca26"
             ],
             [
              1,
              "#f0f921"
             ]
            ],
            "type": "heatmapgl"
           }
          ],
          "histogram": [
           {
            "marker": {
             "pattern": {
              "fillmode": "overlay",
              "size": 10,
              "solidity": 0.2
             }
            },
            "type": "histogram"
           }
          ],
          "histogram2d": [
           {
            "colorbar": {
             "outlinewidth": 0,
             "ticks": ""
            },
            "colorscale": [
             [
              0,
              "#0d0887"
             ],
             [
              0.1111111111111111,
              "#46039f"
             ],
             [
              0.2222222222222222,
              "#7201a8"
             ],
             [
              0.3333333333333333,
              "#9c179e"
             ],
             [
              0.4444444444444444,
              "#bd3786"
             ],
             [
              0.5555555555555556,
              "#d8576b"
             ],
             [
              0.6666666666666666,
              "#ed7953"
             ],
             [
              0.7777777777777778,
              "#fb9f3a"
             ],
             [
              0.8888888888888888,
              "#fdca26"
             ],
             [
              1,
              "#f0f921"
             ]
            ],
            "type": "histogram2d"
           }
          ],
          "histogram2dcontour": [
           {
            "colorbar": {
             "outlinewidth": 0,
             "ticks": ""
            },
            "colorscale": [
             [
              0,
              "#0d0887"
             ],
             [
              0.1111111111111111,
              "#46039f"
             ],
             [
              0.2222222222222222,
              "#7201a8"
             ],
             [
              0.3333333333333333,
              "#9c179e"
             ],
             [
              0.4444444444444444,
              "#bd3786"
             ],
             [
              0.5555555555555556,
              "#d8576b"
             ],
             [
              0.6666666666666666,
              "#ed7953"
             ],
             [
              0.7777777777777778,
              "#fb9f3a"
             ],
             [
              0.8888888888888888,
              "#fdca26"
             ],
             [
              1,
              "#f0f921"
             ]
            ],
            "type": "histogram2dcontour"
           }
          ],
          "mesh3d": [
           {
            "colorbar": {
             "outlinewidth": 0,
             "ticks": ""
            },
            "type": "mesh3d"
           }
          ],
          "parcoords": [
           {
            "line": {
             "colorbar": {
              "outlinewidth": 0,
              "ticks": ""
             }
            },
            "type": "parcoords"
           }
          ],
          "pie": [
           {
            "automargin": true,
            "type": "pie"
           }
          ],
          "scatter": [
           {
            "fillpattern": {
             "fillmode": "overlay",
             "size": 10,
             "solidity": 0.2
            },
            "type": "scatter"
           }
          ],
          "scatter3d": [
           {
            "line": {
             "colorbar": {
              "outlinewidth": 0,
              "ticks": ""
             }
            },
            "marker": {
             "colorbar": {
              "outlinewidth": 0,
              "ticks": ""
             }
            },
            "type": "scatter3d"
           }
          ],
          "scattercarpet": [
           {
            "marker": {
             "colorbar": {
              "outlinewidth": 0,
              "ticks": ""
             }
            },
            "type": "scattercarpet"
           }
          ],
          "scattergeo": [
           {
            "marker": {
             "colorbar": {
              "outlinewidth": 0,
              "ticks": ""
             }
            },
            "type": "scattergeo"
           }
          ],
          "scattergl": [
           {
            "marker": {
             "colorbar": {
              "outlinewidth": 0,
              "ticks": ""
             }
            },
            "type": "scattergl"
           }
          ],
          "scattermapbox": [
           {
            "marker": {
             "colorbar": {
              "outlinewidth": 0,
              "ticks": ""
             }
            },
            "type": "scattermapbox"
           }
          ],
          "scatterpolar": [
           {
            "marker": {
             "colorbar": {
              "outlinewidth": 0,
              "ticks": ""
             }
            },
            "type": "scatterpolar"
           }
          ],
          "scatterpolargl": [
           {
            "marker": {
             "colorbar": {
              "outlinewidth": 0,
              "ticks": ""
             }
            },
            "type": "scatterpolargl"
           }
          ],
          "scatterternary": [
           {
            "marker": {
             "colorbar": {
              "outlinewidth": 0,
              "ticks": ""
             }
            },
            "type": "scatterternary"
           }
          ],
          "surface": [
           {
            "colorbar": {
             "outlinewidth": 0,
             "ticks": ""
            },
            "colorscale": [
             [
              0,
              "#0d0887"
             ],
             [
              0.1111111111111111,
              "#46039f"
             ],
             [
              0.2222222222222222,
              "#7201a8"
             ],
             [
              0.3333333333333333,
              "#9c179e"
             ],
             [
              0.4444444444444444,
              "#bd3786"
             ],
             [
              0.5555555555555556,
              "#d8576b"
             ],
             [
              0.6666666666666666,
              "#ed7953"
             ],
             [
              0.7777777777777778,
              "#fb9f3a"
             ],
             [
              0.8888888888888888,
              "#fdca26"
             ],
             [
              1,
              "#f0f921"
             ]
            ],
            "type": "surface"
           }
          ],
          "table": [
           {
            "cells": {
             "fill": {
              "color": "#EBF0F8"
             },
             "line": {
              "color": "white"
             }
            },
            "header": {
             "fill": {
              "color": "#C8D4E3"
             },
             "line": {
              "color": "white"
             }
            },
            "type": "table"
           }
          ]
         },
         "layout": {
          "annotationdefaults": {
           "arrowcolor": "#2a3f5f",
           "arrowhead": 0,
           "arrowwidth": 1
          },
          "autotypenumbers": "strict",
          "coloraxis": {
           "colorbar": {
            "outlinewidth": 0,
            "ticks": ""
           }
          },
          "colorscale": {
           "diverging": [
            [
             0,
             "#8e0152"
            ],
            [
             0.1,
             "#c51b7d"
            ],
            [
             0.2,
             "#de77ae"
            ],
            [
             0.3,
             "#f1b6da"
            ],
            [
             0.4,
             "#fde0ef"
            ],
            [
             0.5,
             "#f7f7f7"
            ],
            [
             0.6,
             "#e6f5d0"
            ],
            [
             0.7,
             "#b8e186"
            ],
            [
             0.8,
             "#7fbc41"
            ],
            [
             0.9,
             "#4d9221"
            ],
            [
             1,
             "#276419"
            ]
           ],
           "sequential": [
            [
             0,
             "#0d0887"
            ],
            [
             0.1111111111111111,
             "#46039f"
            ],
            [
             0.2222222222222222,
             "#7201a8"
            ],
            [
             0.3333333333333333,
             "#9c179e"
            ],
            [
             0.4444444444444444,
             "#bd3786"
            ],
            [
             0.5555555555555556,
             "#d8576b"
            ],
            [
             0.6666666666666666,
             "#ed7953"
            ],
            [
             0.7777777777777778,
             "#fb9f3a"
            ],
            [
             0.8888888888888888,
             "#fdca26"
            ],
            [
             1,
             "#f0f921"
            ]
           ],
           "sequentialminus": [
            [
             0,
             "#0d0887"
            ],
            [
             0.1111111111111111,
             "#46039f"
            ],
            [
             0.2222222222222222,
             "#7201a8"
            ],
            [
             0.3333333333333333,
             "#9c179e"
            ],
            [
             0.4444444444444444,
             "#bd3786"
            ],
            [
             0.5555555555555556,
             "#d8576b"
            ],
            [
             0.6666666666666666,
             "#ed7953"
            ],
            [
             0.7777777777777778,
             "#fb9f3a"
            ],
            [
             0.8888888888888888,
             "#fdca26"
            ],
            [
             1,
             "#f0f921"
            ]
           ]
          },
          "colorway": [
           "#636efa",
           "#EF553B",
           "#00cc96",
           "#ab63fa",
           "#FFA15A",
           "#19d3f3",
           "#FF6692",
           "#B6E880",
           "#FF97FF",
           "#FECB52"
          ],
          "font": {
           "color": "#2a3f5f"
          },
          "geo": {
           "bgcolor": "white",
           "lakecolor": "white",
           "landcolor": "#E5ECF6",
           "showlakes": true,
           "showland": true,
           "subunitcolor": "white"
          },
          "hoverlabel": {
           "align": "left"
          },
          "hovermode": "closest",
          "mapbox": {
           "style": "light"
          },
          "paper_bgcolor": "white",
          "plot_bgcolor": "#E5ECF6",
          "polar": {
           "angularaxis": {
            "gridcolor": "white",
            "linecolor": "white",
            "ticks": ""
           },
           "bgcolor": "#E5ECF6",
           "radialaxis": {
            "gridcolor": "white",
            "linecolor": "white",
            "ticks": ""
           }
          },
          "scene": {
           "xaxis": {
            "backgroundcolor": "#E5ECF6",
            "gridcolor": "white",
            "gridwidth": 2,
            "linecolor": "white",
            "showbackground": true,
            "ticks": "",
            "zerolinecolor": "white"
           },
           "yaxis": {
            "backgroundcolor": "#E5ECF6",
            "gridcolor": "white",
            "gridwidth": 2,
            "linecolor": "white",
            "showbackground": true,
            "ticks": "",
            "zerolinecolor": "white"
           },
           "zaxis": {
            "backgroundcolor": "#E5ECF6",
            "gridcolor": "white",
            "gridwidth": 2,
            "linecolor": "white",
            "showbackground": true,
            "ticks": "",
            "zerolinecolor": "white"
           }
          },
          "shapedefaults": {
           "line": {
            "color": "#2a3f5f"
           }
          },
          "ternary": {
           "aaxis": {
            "gridcolor": "white",
            "linecolor": "white",
            "ticks": ""
           },
           "baxis": {
            "gridcolor": "white",
            "linecolor": "white",
            "ticks": ""
           },
           "bgcolor": "#E5ECF6",
           "caxis": {
            "gridcolor": "white",
            "linecolor": "white",
            "ticks": ""
           }
          },
          "title": {
           "x": 0.05
          },
          "xaxis": {
           "automargin": true,
           "gridcolor": "white",
           "linecolor": "white",
           "ticks": "",
           "title": {
            "standoff": 15
           },
           "zerolinecolor": "white",
           "zerolinewidth": 2
          },
          "yaxis": {
           "automargin": true,
           "gridcolor": "white",
           "linecolor": "white",
           "ticks": "",
           "title": {
            "standoff": 15
           },
           "zerolinecolor": "white",
           "zerolinewidth": 2
          }
         }
        }
       }
      }
     },
     "metadata": {},
     "output_type": "display_data"
    }
   ],
   "source": [
    "fig = px.scatter_3d(df, x='feature_1',y='feature_2',z='target')\n",
    "fig.show()"
   ]
  },
  {
   "cell_type": "code",
   "execution_count": 5,
   "metadata": {},
   "outputs": [],
   "source": [
    "from sklearn.model_selection import train_test_split\n",
    "\n",
    "X_train,X_test,y_train,y_test = train_test_split(X,y,test_size=0.2, random_state=3)"
   ]
  },
  {
   "cell_type": "code",
   "execution_count": 6,
   "metadata": {},
   "outputs": [],
   "source": [
    "from sklearn.linear_model import LinearRegression"
   ]
  },
  {
   "cell_type": "code",
   "execution_count": 7,
   "metadata": {},
   "outputs": [
    {
     "data": {
      "text/html": [
       "<style>#sk-container-id-1 {color: black;background-color: white;}#sk-container-id-1 pre{padding: 0;}#sk-container-id-1 div.sk-toggleable {background-color: white;}#sk-container-id-1 label.sk-toggleable__label {cursor: pointer;display: block;width: 100%;margin-bottom: 0;padding: 0.3em;box-sizing: border-box;text-align: center;}#sk-container-id-1 label.sk-toggleable__label-arrow:before {content: \"▸\";float: left;margin-right: 0.25em;color: #696969;}#sk-container-id-1 label.sk-toggleable__label-arrow:hover:before {color: black;}#sk-container-id-1 div.sk-estimator:hover label.sk-toggleable__label-arrow:before {color: black;}#sk-container-id-1 div.sk-toggleable__content {max-height: 0;max-width: 0;overflow: hidden;text-align: left;background-color: #f0f8ff;}#sk-container-id-1 div.sk-toggleable__content pre {margin: 0.2em;color: black;border-radius: 0.25em;background-color: #f0f8ff;}#sk-container-id-1 input.sk-toggleable__control:checked~div.sk-toggleable__content {max-height: 200px;max-width: 100%;overflow: auto;}#sk-container-id-1 input.sk-toggleable__control:checked~label.sk-toggleable__label-arrow:before {content: \"▾\";}#sk-container-id-1 div.sk-estimator input.sk-toggleable__control:checked~label.sk-toggleable__label {background-color: #d4ebff;}#sk-container-id-1 div.sk-label input.sk-toggleable__control:checked~label.sk-toggleable__label {background-color: #d4ebff;}#sk-container-id-1 input.sk-hidden--visually {border: 0;clip: rect(1px 1px 1px 1px);clip: rect(1px, 1px, 1px, 1px);height: 1px;margin: -1px;overflow: hidden;padding: 0;position: absolute;width: 1px;}#sk-container-id-1 div.sk-estimator {font-family: monospace;background-color: #f0f8ff;border: 1px dotted black;border-radius: 0.25em;box-sizing: border-box;margin-bottom: 0.5em;}#sk-container-id-1 div.sk-estimator:hover {background-color: #d4ebff;}#sk-container-id-1 div.sk-parallel-item::after {content: \"\";width: 100%;border-bottom: 1px solid gray;flex-grow: 1;}#sk-container-id-1 div.sk-label:hover label.sk-toggleable__label {background-color: #d4ebff;}#sk-container-id-1 div.sk-serial::before {content: \"\";position: absolute;border-left: 1px solid gray;box-sizing: border-box;top: 0;bottom: 0;left: 50%;z-index: 0;}#sk-container-id-1 div.sk-serial {display: flex;flex-direction: column;align-items: center;background-color: white;padding-right: 0.2em;padding-left: 0.2em;position: relative;}#sk-container-id-1 div.sk-item {position: relative;z-index: 1;}#sk-container-id-1 div.sk-parallel {display: flex;align-items: stretch;justify-content: center;background-color: white;position: relative;}#sk-container-id-1 div.sk-item::before, #sk-container-id-1 div.sk-parallel-item::before {content: \"\";position: absolute;border-left: 1px solid gray;box-sizing: border-box;top: 0;bottom: 0;left: 50%;z-index: -1;}#sk-container-id-1 div.sk-parallel-item {display: flex;flex-direction: column;z-index: 1;position: relative;background-color: white;}#sk-container-id-1 div.sk-parallel-item:first-child::after {align-self: flex-end;width: 50%;}#sk-container-id-1 div.sk-parallel-item:last-child::after {align-self: flex-start;width: 50%;}#sk-container-id-1 div.sk-parallel-item:only-child::after {width: 0;}#sk-container-id-1 div.sk-dashed-wrapped {border: 1px dashed gray;margin: 0 0.4em 0.5em 0.4em;box-sizing: border-box;padding-bottom: 0.4em;background-color: white;}#sk-container-id-1 div.sk-label label {font-family: monospace;font-weight: bold;display: inline-block;line-height: 1.2em;}#sk-container-id-1 div.sk-label-container {text-align: center;}#sk-container-id-1 div.sk-container {/* jupyter's `normalize.less` sets `[hidden] { display: none; }` but bootstrap.min.css set `[hidden] { display: none !important; }` so we also need the `!important` here to be able to override the default hidden behavior on the sphinx rendered scikit-learn.org. See: https://github.com/scikit-learn/scikit-learn/issues/21755 */display: inline-block !important;position: relative;}#sk-container-id-1 div.sk-text-repr-fallback {display: none;}</style><div id=\"sk-container-id-1\" class=\"sk-top-container\"><div class=\"sk-text-repr-fallback\"><pre>LinearRegression()</pre><b>In a Jupyter environment, please rerun this cell to show the HTML representation or trust the notebook. <br />On GitHub, the HTML representation is unable to render, please try loading this page with nbviewer.org.</b></div><div class=\"sk-container\" hidden><div class=\"sk-item\"><div class=\"sk-estimator sk-toggleable\"><input class=\"sk-toggleable__control sk-hidden--visually\" id=\"sk-estimator-id-1\" type=\"checkbox\" checked><label for=\"sk-estimator-id-1\" class=\"sk-toggleable__label sk-toggleable__label-arrow\">LinearRegression</label><div class=\"sk-toggleable__content\"><pre>LinearRegression()</pre></div></div></div></div></div>"
      ],
      "text/plain": [
       "LinearRegression()"
      ]
     },
     "execution_count": 7,
     "metadata": {},
     "output_type": "execute_result"
    }
   ],
   "source": [
    "lr = LinearRegression()\n",
    "lr.fit(X_train,y_train)"
   ]
  },
  {
   "cell_type": "code",
   "execution_count": 8,
   "metadata": {},
   "outputs": [],
   "source": [
    "y_pred = lr.predict(X_test)"
   ]
  },
  {
   "cell_type": "code",
   "execution_count": 9,
   "metadata": {},
   "outputs": [
    {
     "name": "stdout",
     "output_type": "stream",
     "text": [
      "MAE 40.35032998505142\n",
      "MSQ 2435.996102763054\n",
      "R2 Score 0.3371089150516976\n"
     ]
    }
   ],
   "source": [
    "print(\"MAE\", mean_absolute_error(y_test, y_pred))\n",
    "print(\"MSQ\", mean_squared_error(y_test, y_pred))\n",
    "print(\"R2 Score\", r2_score(y_test, y_pred))\n"
   ]
  },
  {
   "cell_type": "code",
   "execution_count": 11,
   "metadata": {},
   "outputs": [],
   "source": [
    "x = np.linspace(-5, 5, 10)\n",
    "y = np.linspace(-5, 5, 10)\n",
    "xGrid, yGrid = np.meshgrid(y, x)\n",
    "final = np.vstack((xGrid.ravel().reshape(1,100),yGrid.ravel().reshape(1,100))).T\n",
    "z_final = lr.predict(final).reshape(10,10)\n",
    "\n",
    "z = z_final\n",
    "\n"
   ]
  },
  {
   "cell_type": "code",
   "execution_count": 13,
   "metadata": {},
   "outputs": [
    {
     "data": {
      "application/vnd.plotly.v1+json": {
       "config": {
        "plotlyServerURL": "https://plot.ly"
       },
       "data": [
        {
         "hovertemplate": "feature_1=%{x}<br>feature_2=%{y}<br>target=%{z}<extra></extra>",
         "legendgroup": "",
         "marker": {
          "color": "#636efa",
          "symbol": "circle"
         },
         "mode": "markers",
         "name": "",
         "scene": "scene",
         "showlegend": false,
         "type": "scatter3d",
         "x": [
          -0.6361097284154765,
          0.4401415663069315,
          0.9720868582298237,
          1.5773787065419667,
          0.6682099867922651,
          -0.082574477351577,
          -0.607188494352706,
          0.4218469118263737,
          -0.9240276542780939,
          -1.273232846490226,
          -1.205134648303395,
          -0.9942628639022233,
          -1.0113771275766266,
          -0.5045930333073447,
          1.4927184827257762,
          1.0597918729739921,
          -0.5261455580618689,
          -0.9176136776858997,
          -0.5419524178177024,
          -1.2952720242081828,
          0.5162225525718794,
          -0.8615694651947398,
          -0.682078185775451,
          -0.004536958586473089,
          -0.8238352800546281,
          0.6444239271753869,
          1.638291046078339,
          -1.7999910667305363,
          -2.4383229690033703,
          -0.6070407128322901,
          -0.15198895598601792,
          0.2865208339035002,
          0.8771409088830532,
          0.7990080608378486,
          0.5734555910219936,
          0.14508239408240947,
          -2.2218774461251476,
          -0.4746694843370704,
          1.472250003561606,
          0.18659436389638173,
          -1.2997257887651383,
          0.5820520478429956,
          -0.015272163125852417,
          2.1535076076771755,
          -0.8304965451928641,
          -0.5788896529903934,
          -0.347746777823636,
          -0.8117890007968342,
          -0.7636921068142074,
          1.5869013257795814,
          0.04554720710525077,
          0.7221042784682314,
          0.8344219508641266,
          0.8431599022187048,
          -0.9444248833987217,
          -0.8427921634422368,
          -0.6132603612281647,
          0.9383134223724668,
          -2.5796736555777913,
          -0.6076302120356983,
          -0.5527011913876482,
          0.6914431226001838,
          -0.4130121110259754,
          -1.0732821742591756,
          -1.6781949391049809,
          -1.402497028872698,
          -1.0457157628961873,
          -0.8950296926434567,
          0.7653610574196815,
          -0.861946604153181,
          -0.7323285029681404,
          0.06179631982605489,
          0.6807802254157698,
          -1.348384440733875,
          -0.29824589696775966,
          -0.789347226175045,
          -0.9829400214386669,
          0.5763930113612267,
          -0.25119475527159285,
          -1.0610648596695866,
          -0.3207569344648581,
          -1.4378460919151295,
          -0.7772122627353811,
          -0.7416390056861134,
          0.4150801935218168,
          1.002427950885933,
          -1.079647449685947,
          -0.830322859819342,
          0.6250356821278353,
          -0.034864930552616386,
          -0.5131032626722906,
          0.645921347291328,
          0.5799157048011773,
          -0.5838316698048394,
          0.06900853209208324,
          -0.774015871002916,
          0.24560329368423595,
          0.8186780647401425,
          1.4294357923657617,
          0.6256816029976382
         ],
         "y": [
          -0.2877583452351194,
          -0.5740005454200553,
          0.8322878708787238,
          -1.0210168848997967,
          -1.3583678680447953,
          0.615576098556784,
          -0.5276114309476919,
          0.04357064458312319,
          -0.6935915476800545,
          -0.566945366311653,
          -1.4461748273514656,
          -1.6701902571419713,
          -1.0816803865924314,
          0.4467756416076298,
          0.6996754569032199,
          0.6777649558729368,
          -1.6989515877900585,
          1.671073103143928,
          -0.5612215635652722,
          -0.31577790142194023,
          0.15080229210571564,
          0.8128091988926986,
          -1.3744841891487465,
          -1.3460649246797025,
          0.6293307607859796,
          1.111058437927903,
          -0.41210432759002047,
          -0.7688319969768889,
          -1.4890900872563453,
          -0.17147726671808972,
          0.4290529001613939,
          0.6144889774068335,
          0.2974281682333469,
          0.11753066141841907,
          1.5051310207867754,
          -1.3051759916093015,
          -1.4262556838209999,
          -0.771697267594768,
          0.16515810168697376,
          -0.5492807304390291,
          0.5689304243912889,
          -2.2180934625753843,
          0.4160726574229978,
          -1.9866991586009506,
          0.832122626341337,
          -0.5338693053652089,
          1.1148167172770302,
          -0.9230523167357316,
          -1.8453776580239352,
          -0.6788430542411947,
          1.6463489023006406,
          -0.8479189757471589,
          0.6341027088754182,
          -0.37257258202927873,
          -0.4184159494588898,
          0.25616142802118574,
          -1.26591960390429,
          1.4531564833599464,
          0.5411379259437423,
          -0.2220745629717942,
          1.0065973311264311,
          0.2753541137729621,
          0.8567262159637686,
          -0.028032840600560664,
          0.15244279160625515,
          0.7849864277532376,
          0.4993668533978425,
          -0.4417897780930285,
          -0.8877216624710036,
          -1.3210664359315687,
          -0.8816187833078396,
          -0.5418217805296335,
          -1.4612014150571746,
          0.509223412822253,
          -1.1523996257568228,
          -0.9847925976792518,
          -0.9422278702765255,
          0.14864971588624237,
          0.40325002800686044,
          0.2867492648682884,
          0.7415381917626243,
          -0.442727937234756,
          0.0974800774373651,
          -0.48747312225789363,
          1.8211560117001568,
          -1.2565681532326995,
          0.39205353629725703,
          0.5154284051224934,
          2.2646889598722244,
          0.5514236732096105,
          0.4245007849662009,
          0.9064808848725918,
          1.744885418141716,
          1.44558743192853,
          0.3750714308367979,
          -0.5352314950107734,
          1.2645094662832845,
          0.7814154435062227,
          1.3396775745115561,
          -1.944631093951254
         ],
         "z": [
          18.290951623636083,
          30.937827055494658,
          12.40315629972622,
          50.14107949050551,
          -75.84382394755707,
          -15.197907507682396,
          17.200166519317325,
          -108.84079552487161,
          -60.20160137747784,
          -7.74534090027386,
          -69.79246562537105,
          -96.56351650006857,
          -49.6521888416253,
          38.39538018405362,
          43.16925796424053,
          -42.951599530755644,
          -48.32513239604582,
          -38.58320481414058,
          -74.71421990477177,
          46.64325610712585,
          -4.183756130525182,
          4.161402905547444,
          -57.06852816260319,
          32.99011342741834,
          52.175672925377384,
          66.6173476363204,
          9.073824740176672,
          -8.225439423657871,
          -64.68157064889988,
          35.60426300180916,
          44.9008868911051,
          6.536147465807298,
          17.875071023127838,
          -41.25312744555787,
          56.79539131910613,
          -128.68659087404683,
          7.999269425389791,
          -69.1253952265873,
          24.225285013627932,
          -0.6199035913011048,
          4.115312439541034,
          -5.123399740244324,
          23.04214655697743,
          -58.450556145753424,
          -10.99828008279432,
          -52.27918862683961,
          136.82620922735038,
          39.36881291311967,
          -67.8421256053937,
          -104.87082866702639,
          24.92724950097687,
          -105.95604305490163,
          -8.42307088904774,
          113.45616206868422,
          -39.21656249070367,
          51.75819672954755,
          -31.60800612545006,
          60.619093439300286,
          -94.7460254368462,
          -88.50608244504076,
          86.6997393767951,
          12.080219730136658,
          -27.83279706626943,
          30.051212092258115,
          3.670465383367377,
          -27.08056657606106,
          64.90682145228274,
          -46.69839317753489,
          6.024950615929349,
          -34.14494794625007,
          -62.72761924100226,
          -27.360719352591637,
          -7.760021280702336,
          -52.20502967876926,
          -22.378211273994992,
          -119.24432491745652,
          -1.2519256371061438,
          41.93452076105988,
          -23.37722716867134,
          -21.308142496715345,
          66.52884748947987,
          -109.6956361142208,
          -9.69580562712472,
          -18.70524782522856,
          77.38051752309562,
          -36.67501910975609,
          -48.85262807223749,
          18.4191909379883,
          129.76959192921305,
          88.73745600691608,
          -20.796369447595634,
          23.8033097680447,
          66.90871770824127,
          77.3273161167276,
          20.430409486654177,
          -59.416151207881605,
          122.47353247066175,
          106.85989358928046,
          -19.072536899784467,
          -8.565815609518943
         ]
        },
        {
         "type": "surface",
         "x": [
          -5,
          -3.888888888888889,
          -2.7777777777777777,
          -1.6666666666666665,
          -0.5555555555555554,
          0.5555555555555554,
          1.666666666666667,
          2.7777777777777786,
          3.8888888888888893,
          5
         ],
         "y": [
          -5,
          -3.888888888888889,
          -2.7777777777777777,
          -1.6666666666666665,
          -0.5555555555555554,
          0.5555555555555554,
          1.666666666666667,
          2.7777777777777786,
          3.8888888888888893,
          5
         ],
         "z": [
          [
           -198.08655157727011,
           -186.70879705681338,
           -175.33104253635665,
           -163.95328801589994,
           -152.5755334954432,
           -141.19777897498648,
           -129.82002445452974,
           -118.44226993407302,
           -107.0645154136163,
           -95.68676089315959
          ],
          [
           -165.50889158384106,
           -154.13113706338433,
           -142.7533825429276,
           -131.3756280224709,
           -119.99787350201417,
           -108.62011898155744,
           -97.2423644611007,
           -85.86460994064397,
           -74.48685542018725,
           -63.109100899730535
          ],
          [
           -132.931231590412,
           -121.55347706995529,
           -110.17572254949856,
           -98.79796802904183,
           -87.4202135085851,
           -76.04245898812837,
           -64.66470446767165,
           -53.28694994721491,
           -41.90919542675819,
           -30.531440906301466
          ],
          [
           -100.35357159698295,
           -88.97581707652623,
           -77.59806255606951,
           -66.22030803561277,
           -54.84255351515604,
           -43.46479899469932,
           -32.08704447424259,
           -20.709289953785852,
           -9.331535433329126,
           2.046219087127593
          ],
          [
           -67.7759116035539,
           -56.39815708309716,
           -45.02040256264044,
           -33.64264804218371,
           -22.26489352172698,
           -10.887139001270258,
           0.4906155191864734,
           11.868370039643207,
           23.246124560099933,
           34.62387908055665
          ],
          [
           -35.19825161012484,
           -23.820497089668113,
           -12.442742569211386,
           -1.0649880487546568,
           10.312766471702071,
           21.690520992158792,
           33.06827551261553,
           44.44603003307226,
           55.82378455352898,
           67.2015390739857
          ],
          [
           -2.6205916166957657,
           8.75716290376096,
           20.134917424217686,
           31.512671944674416,
           42.89042646513114,
           54.26818098558786,
           65.6459355060446,
           77.02369002650133,
           88.40144454695805,
           99.77919906741478
          ],
          [
           29.957068376733307,
           41.33482289719004,
           52.712577417646756,
           64.09033193810349,
           75.46808645856021,
           86.84584097901694,
           98.22359549947366,
           109.6013500199304,
           120.97910454038713,
           132.35685906084385
          ],
          [
           62.534728370162355,
           73.91248289061907,
           85.29023741107581,
           96.66799193153254,
           108.04574645198926,
           119.42350097244599,
           130.80125549290273,
           142.17901001335946,
           153.5567645338162,
           164.9345190542729
          ],
          [
           95.11238836359139,
           106.49014288404813,
           117.86789740450484,
           129.24565192496158,
           140.6234064454183,
           152.00116096587504,
           163.37891548633178,
           174.7566700067885,
           186.13442452724522,
           197.51217904770195
          ]
         ]
        }
       ],
       "layout": {
        "legend": {
         "tracegroupgap": 0
        },
        "margin": {
         "t": 60
        },
        "scene": {
         "domain": {
          "x": [
           0,
           1
          ],
          "y": [
           0,
           1
          ]
         },
         "xaxis": {
          "title": {
           "text": "feature_1"
          }
         },
         "yaxis": {
          "title": {
           "text": "feature_2"
          }
         },
         "zaxis": {
          "title": {
           "text": "target"
          }
         }
        },
        "template": {
         "data": {
          "bar": [
           {
            "error_x": {
             "color": "#2a3f5f"
            },
            "error_y": {
             "color": "#2a3f5f"
            },
            "marker": {
             "line": {
              "color": "#E5ECF6",
              "width": 0.5
             },
             "pattern": {
              "fillmode": "overlay",
              "size": 10,
              "solidity": 0.2
             }
            },
            "type": "bar"
           }
          ],
          "barpolar": [
           {
            "marker": {
             "line": {
              "color": "#E5ECF6",
              "width": 0.5
             },
             "pattern": {
              "fillmode": "overlay",
              "size": 10,
              "solidity": 0.2
             }
            },
            "type": "barpolar"
           }
          ],
          "carpet": [
           {
            "aaxis": {
             "endlinecolor": "#2a3f5f",
             "gridcolor": "white",
             "linecolor": "white",
             "minorgridcolor": "white",
             "startlinecolor": "#2a3f5f"
            },
            "baxis": {
             "endlinecolor": "#2a3f5f",
             "gridcolor": "white",
             "linecolor": "white",
             "minorgridcolor": "white",
             "startlinecolor": "#2a3f5f"
            },
            "type": "carpet"
           }
          ],
          "choropleth": [
           {
            "colorbar": {
             "outlinewidth": 0,
             "ticks": ""
            },
            "type": "choropleth"
           }
          ],
          "contour": [
           {
            "colorbar": {
             "outlinewidth": 0,
             "ticks": ""
            },
            "colorscale": [
             [
              0,
              "#0d0887"
             ],
             [
              0.1111111111111111,
              "#46039f"
             ],
             [
              0.2222222222222222,
              "#7201a8"
             ],
             [
              0.3333333333333333,
              "#9c179e"
             ],
             [
              0.4444444444444444,
              "#bd3786"
             ],
             [
              0.5555555555555556,
              "#d8576b"
             ],
             [
              0.6666666666666666,
              "#ed7953"
             ],
             [
              0.7777777777777778,
              "#fb9f3a"
             ],
             [
              0.8888888888888888,
              "#fdca26"
             ],
             [
              1,
              "#f0f921"
             ]
            ],
            "type": "contour"
           }
          ],
          "contourcarpet": [
           {
            "colorbar": {
             "outlinewidth": 0,
             "ticks": ""
            },
            "type": "contourcarpet"
           }
          ],
          "heatmap": [
           {
            "colorbar": {
             "outlinewidth": 0,
             "ticks": ""
            },
            "colorscale": [
             [
              0,
              "#0d0887"
             ],
             [
              0.1111111111111111,
              "#46039f"
             ],
             [
              0.2222222222222222,
              "#7201a8"
             ],
             [
              0.3333333333333333,
              "#9c179e"
             ],
             [
              0.4444444444444444,
              "#bd3786"
             ],
             [
              0.5555555555555556,
              "#d8576b"
             ],
             [
              0.6666666666666666,
              "#ed7953"
             ],
             [
              0.7777777777777778,
              "#fb9f3a"
             ],
             [
              0.8888888888888888,
              "#fdca26"
             ],
             [
              1,
              "#f0f921"
             ]
            ],
            "type": "heatmap"
           }
          ],
          "heatmapgl": [
           {
            "colorbar": {
             "outlinewidth": 0,
             "ticks": ""
            },
            "colorscale": [
             [
              0,
              "#0d0887"
             ],
             [
              0.1111111111111111,
              "#46039f"
             ],
             [
              0.2222222222222222,
              "#7201a8"
             ],
             [
              0.3333333333333333,
              "#9c179e"
             ],
             [
              0.4444444444444444,
              "#bd3786"
             ],
             [
              0.5555555555555556,
              "#d8576b"
             ],
             [
              0.6666666666666666,
              "#ed7953"
             ],
             [
              0.7777777777777778,
              "#fb9f3a"
             ],
             [
              0.8888888888888888,
              "#fdca26"
             ],
             [
              1,
              "#f0f921"
             ]
            ],
            "type": "heatmapgl"
           }
          ],
          "histogram": [
           {
            "marker": {
             "pattern": {
              "fillmode": "overlay",
              "size": 10,
              "solidity": 0.2
             }
            },
            "type": "histogram"
           }
          ],
          "histogram2d": [
           {
            "colorbar": {
             "outlinewidth": 0,
             "ticks": ""
            },
            "colorscale": [
             [
              0,
              "#0d0887"
             ],
             [
              0.1111111111111111,
              "#46039f"
             ],
             [
              0.2222222222222222,
              "#7201a8"
             ],
             [
              0.3333333333333333,
              "#9c179e"
             ],
             [
              0.4444444444444444,
              "#bd3786"
             ],
             [
              0.5555555555555556,
              "#d8576b"
             ],
             [
              0.6666666666666666,
              "#ed7953"
             ],
             [
              0.7777777777777778,
              "#fb9f3a"
             ],
             [
              0.8888888888888888,
              "#fdca26"
             ],
             [
              1,
              "#f0f921"
             ]
            ],
            "type": "histogram2d"
           }
          ],
          "histogram2dcontour": [
           {
            "colorbar": {
             "outlinewidth": 0,
             "ticks": ""
            },
            "colorscale": [
             [
              0,
              "#0d0887"
             ],
             [
              0.1111111111111111,
              "#46039f"
             ],
             [
              0.2222222222222222,
              "#7201a8"
             ],
             [
              0.3333333333333333,
              "#9c179e"
             ],
             [
              0.4444444444444444,
              "#bd3786"
             ],
             [
              0.5555555555555556,
              "#d8576b"
             ],
             [
              0.6666666666666666,
              "#ed7953"
             ],
             [
              0.7777777777777778,
              "#fb9f3a"
             ],
             [
              0.8888888888888888,
              "#fdca26"
             ],
             [
              1,
              "#f0f921"
             ]
            ],
            "type": "histogram2dcontour"
           }
          ],
          "mesh3d": [
           {
            "colorbar": {
             "outlinewidth": 0,
             "ticks": ""
            },
            "type": "mesh3d"
           }
          ],
          "parcoords": [
           {
            "line": {
             "colorbar": {
              "outlinewidth": 0,
              "ticks": ""
             }
            },
            "type": "parcoords"
           }
          ],
          "pie": [
           {
            "automargin": true,
            "type": "pie"
           }
          ],
          "scatter": [
           {
            "fillpattern": {
             "fillmode": "overlay",
             "size": 10,
             "solidity": 0.2
            },
            "type": "scatter"
           }
          ],
          "scatter3d": [
           {
            "line": {
             "colorbar": {
              "outlinewidth": 0,
              "ticks": ""
             }
            },
            "marker": {
             "colorbar": {
              "outlinewidth": 0,
              "ticks": ""
             }
            },
            "type": "scatter3d"
           }
          ],
          "scattercarpet": [
           {
            "marker": {
             "colorbar": {
              "outlinewidth": 0,
              "ticks": ""
             }
            },
            "type": "scattercarpet"
           }
          ],
          "scattergeo": [
           {
            "marker": {
             "colorbar": {
              "outlinewidth": 0,
              "ticks": ""
             }
            },
            "type": "scattergeo"
           }
          ],
          "scattergl": [
           {
            "marker": {
             "colorbar": {
              "outlinewidth": 0,
              "ticks": ""
             }
            },
            "type": "scattergl"
           }
          ],
          "scattermapbox": [
           {
            "marker": {
             "colorbar": {
              "outlinewidth": 0,
              "ticks": ""
             }
            },
            "type": "scattermapbox"
           }
          ],
          "scatterpolar": [
           {
            "marker": {
             "colorbar": {
              "outlinewidth": 0,
              "ticks": ""
             }
            },
            "type": "scatterpolar"
           }
          ],
          "scatterpolargl": [
           {
            "marker": {
             "colorbar": {
              "outlinewidth": 0,
              "ticks": ""
             }
            },
            "type": "scatterpolargl"
           }
          ],
          "scatterternary": [
           {
            "marker": {
             "colorbar": {
              "outlinewidth": 0,
              "ticks": ""
             }
            },
            "type": "scatterternary"
           }
          ],
          "surface": [
           {
            "colorbar": {
             "outlinewidth": 0,
             "ticks": ""
            },
            "colorscale": [
             [
              0,
              "#0d0887"
             ],
             [
              0.1111111111111111,
              "#46039f"
             ],
             [
              0.2222222222222222,
              "#7201a8"
             ],
             [
              0.3333333333333333,
              "#9c179e"
             ],
             [
              0.4444444444444444,
              "#bd3786"
             ],
             [
              0.5555555555555556,
              "#d8576b"
             ],
             [
              0.6666666666666666,
              "#ed7953"
             ],
             [
              0.7777777777777778,
              "#fb9f3a"
             ],
             [
              0.8888888888888888,
              "#fdca26"
             ],
             [
              1,
              "#f0f921"
             ]
            ],
            "type": "surface"
           }
          ],
          "table": [
           {
            "cells": {
             "fill": {
              "color": "#EBF0F8"
             },
             "line": {
              "color": "white"
             }
            },
            "header": {
             "fill": {
              "color": "#C8D4E3"
             },
             "line": {
              "color": "white"
             }
            },
            "type": "table"
           }
          ]
         },
         "layout": {
          "annotationdefaults": {
           "arrowcolor": "#2a3f5f",
           "arrowhead": 0,
           "arrowwidth": 1
          },
          "autotypenumbers": "strict",
          "coloraxis": {
           "colorbar": {
            "outlinewidth": 0,
            "ticks": ""
           }
          },
          "colorscale": {
           "diverging": [
            [
             0,
             "#8e0152"
            ],
            [
             0.1,
             "#c51b7d"
            ],
            [
             0.2,
             "#de77ae"
            ],
            [
             0.3,
             "#f1b6da"
            ],
            [
             0.4,
             "#fde0ef"
            ],
            [
             0.5,
             "#f7f7f7"
            ],
            [
             0.6,
             "#e6f5d0"
            ],
            [
             0.7,
             "#b8e186"
            ],
            [
             0.8,
             "#7fbc41"
            ],
            [
             0.9,
             "#4d9221"
            ],
            [
             1,
             "#276419"
            ]
           ],
           "sequential": [
            [
             0,
             "#0d0887"
            ],
            [
             0.1111111111111111,
             "#46039f"
            ],
            [
             0.2222222222222222,
             "#7201a8"
            ],
            [
             0.3333333333333333,
             "#9c179e"
            ],
            [
             0.4444444444444444,
             "#bd3786"
            ],
            [
             0.5555555555555556,
             "#d8576b"
            ],
            [
             0.6666666666666666,
             "#ed7953"
            ],
            [
             0.7777777777777778,
             "#fb9f3a"
            ],
            [
             0.8888888888888888,
             "#fdca26"
            ],
            [
             1,
             "#f0f921"
            ]
           ],
           "sequentialminus": [
            [
             0,
             "#0d0887"
            ],
            [
             0.1111111111111111,
             "#46039f"
            ],
            [
             0.2222222222222222,
             "#7201a8"
            ],
            [
             0.3333333333333333,
             "#9c179e"
            ],
            [
             0.4444444444444444,
             "#bd3786"
            ],
            [
             0.5555555555555556,
             "#d8576b"
            ],
            [
             0.6666666666666666,
             "#ed7953"
            ],
            [
             0.7777777777777778,
             "#fb9f3a"
            ],
            [
             0.8888888888888888,
             "#fdca26"
            ],
            [
             1,
             "#f0f921"
            ]
           ]
          },
          "colorway": [
           "#636efa",
           "#EF553B",
           "#00cc96",
           "#ab63fa",
           "#FFA15A",
           "#19d3f3",
           "#FF6692",
           "#B6E880",
           "#FF97FF",
           "#FECB52"
          ],
          "font": {
           "color": "#2a3f5f"
          },
          "geo": {
           "bgcolor": "white",
           "lakecolor": "white",
           "landcolor": "#E5ECF6",
           "showlakes": true,
           "showland": true,
           "subunitcolor": "white"
          },
          "hoverlabel": {
           "align": "left"
          },
          "hovermode": "closest",
          "mapbox": {
           "style": "light"
          },
          "paper_bgcolor": "white",
          "plot_bgcolor": "#E5ECF6",
          "polar": {
           "angularaxis": {
            "gridcolor": "white",
            "linecolor": "white",
            "ticks": ""
           },
           "bgcolor": "#E5ECF6",
           "radialaxis": {
            "gridcolor": "white",
            "linecolor": "white",
            "ticks": ""
           }
          },
          "scene": {
           "xaxis": {
            "backgroundcolor": "#E5ECF6",
            "gridcolor": "white",
            "gridwidth": 2,
            "linecolor": "white",
            "showbackground": true,
            "ticks": "",
            "zerolinecolor": "white"
           },
           "yaxis": {
            "backgroundcolor": "#E5ECF6",
            "gridcolor": "white",
            "gridwidth": 2,
            "linecolor": "white",
            "showbackground": true,
            "ticks": "",
            "zerolinecolor": "white"
           },
           "zaxis": {
            "backgroundcolor": "#E5ECF6",
            "gridcolor": "white",
            "gridwidth": 2,
            "linecolor": "white",
            "showbackground": true,
            "ticks": "",
            "zerolinecolor": "white"
           }
          },
          "shapedefaults": {
           "line": {
            "color": "#2a3f5f"
           }
          },
          "ternary": {
           "aaxis": {
            "gridcolor": "white",
            "linecolor": "white",
            "ticks": ""
           },
           "baxis": {
            "gridcolor": "white",
            "linecolor": "white",
            "ticks": ""
           },
           "bgcolor": "#E5ECF6",
           "caxis": {
            "gridcolor": "white",
            "linecolor": "white",
            "ticks": ""
           }
          },
          "title": {
           "x": 0.05
          },
          "xaxis": {
           "automargin": true,
           "gridcolor": "white",
           "linecolor": "white",
           "ticks": "",
           "title": {
            "standoff": 15
           },
           "zerolinecolor": "white",
           "zerolinewidth": 2
          },
          "yaxis": {
           "automargin": true,
           "gridcolor": "white",
           "linecolor": "white",
           "ticks": "",
           "title": {
            "standoff": 15
           },
           "zerolinecolor": "white",
           "zerolinewidth": 2
          }
         }
        }
       }
      }
     },
     "metadata": {},
     "output_type": "display_data"
    }
   ],
   "source": [
    "fig = px.scatter_3d(df, x='feature_1', y='feature_2', z='target')\n",
    "\n",
    "fig.add_trace(go.Surface(x = x, y = y, z =z ))\n",
    "\n",
    "fig.show()"
   ]
  }
 ],
 "metadata": {
  "kernelspec": {
   "display_name": "mlEnv",
   "language": "python",
   "name": "python3"
  },
  "language_info": {
   "codemirror_mode": {
    "name": "ipython",
    "version": 3
   },
   "file_extension": ".py",
   "mimetype": "text/x-python",
   "name": "python",
   "nbconvert_exporter": "python",
   "pygments_lexer": "ipython3",
   "version": "3.9.10"
  },
  "orig_nbformat": 4,
  "vscode": {
   "interpreter": {
    "hash": "3e20c71dbbee8e33407917c46006cbf4e8f12dc03143f4a8aacbc3eb9dab0e48"
   }
  }
 },
 "nbformat": 4,
 "nbformat_minor": 2
}
